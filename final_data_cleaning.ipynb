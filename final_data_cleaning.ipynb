{
 "cells": [
  {
   "cell_type": "markdown",
   "metadata": {},
   "source": [
    "**Helmy's part begins**"
   ]
  },
  {
   "cell_type": "code",
   "execution_count": 732,
   "metadata": {},
   "outputs": [],
   "source": [
    "import json\n",
    "import pandas as pd\n",
    "import re\n",
    "\n",
    "with open(\"result1.json\",encoding=\"utf8\") as f:\n",
    "    data=json.load(f)\n",
    "    \n",
    "females_data={}\n",
    "males_data={}"
   ]
  },
  {
   "cell_type": "markdown",
   "metadata": {},
   "source": [
    "## Data"
   ]
  },
  {
   "cell_type": "code",
   "execution_count": 733,
   "metadata": {},
   "outputs": [],
   "source": [
    "def collect_data(form,dic,recNo):\n",
    "    dic[recNo]={}\n",
    "    for formLine in form:\n",
    "        if(formLine=='' or formLine==' '):\n",
    "            continue\n",
    "        else:\n",
    "            formLine=formLine.split('    ')\n",
    "            formLine=list(filter(None,formLine))\n",
    "            for record in formLine:\n",
    "                record=record.split(':',1)\n",
    "                if(len(record)<=1):\n",
    "                    continue\n",
    "                else:\n",
    "                    record[0]=record[0].strip()\n",
    "                    # Females Columns Cleaning (start)\n",
    "                    if(record[0]=='لون البشرة.1'):\n",
    "                        record[0]=\"color\"\n",
    "                    if(record[0]=='الوالدة' or record[0]=='وثلاثة في حضانة امهم' or record[0]=='- الوالده' or record[0]=='الوالده' or record[0]=='الام' or record[0]=='والدتي' or record[0]=='أمي'):\n",
    "                        continue\n",
    "                    if(record[0]=='hلتيسير الذي يمكن ان تقدمه لاتمام عملية الزواج' or record[0]=='ما هو شكل التيسير المقدم لاتمام عملية الزواج' or record[0]=='شكل التيسير المقدم' or record[0]=='شكل التيسير المقدم لاتمام الزواج'or record[0]=='شكل التيسير المقدم لاتمام عملية الزواج' or record[0]=='التيسير الذي يمكن ان تقدمه لاتمام عملية الزواج' or record[0]== 'لتيسير الذي يمكن ان تقدمه لاتمام عملية الزواج' or record[0]=='ما هو شكل التيسير الذي يمكن ان تقدميه لاتمام عملية الزواج'):\n",
    "                        record[0]='التيسير المقدم لاتمام عملية الزواج'\n",
    "                    if(record[0]=='اضافات ضرورية' or record[0]=='اضافات أخرى' or record[0]=='اضافات اخرى' or record[0]=='اضافات ضرورية.1' or record[0]=='هل تريدين اضافة شئ ترينه ضروريا؟' or record[0]=='هل تريدين إضافة شئ ترينه ضرورياً' or record[0]=='اضافت ضرورية' or record[0]=='أضافات ضرورية'):\n",
    "                        record[0]='إضافات ضرورية'\n",
    "                    if(record[0]==\"الحالة الاجتماعية.1\" or record[0]=='الحالة الاجتماعية لها' or record[0]=='حالة الأخت' or (record[0]==\"الحالة الاجتماعية\" and record[0] in dic[recNo].keys())):\n",
    "                        record[0]='الحالة الإجتماعية المناسبة'\n",
    "                    if(record[0]=='عدد الأولاد وأعمارهم وحضانتهم' or record[0]=='عدد الأولاد وأعماره وحضانتهم' or record[0]=='عدد الاولاد وحضانتهم'):\n",
    "                        record[0]='عدد الأولاد وأعمارهم وحضانتهم إذا وجد'\n",
    "                    if(record[0]=='الوظيفة او العمل ان وجد'):\n",
    "                        record[0]='الوظيفة او العمل'\n",
    "                    if(record[0]=='هل تحافظين علي السنن القولیة والفعلیة؟' or record[0]=='الخفاظ علي السنن القولیة والفعلیة' or record[0]=='الحفاظ السنن القولیة والفعلیة' or record[0]=='الحفاظ علي السنن القولیة والفعلیة'):\n",
    "                        record[0]='الحفاظ على السنن القولیة والفعلیة'\n",
    "                    if(record[0]=='هل تحافظين علي الصلاة في وقتها ؟'):\n",
    "                        record[0]='الحفاظ علي الصلاة في وقتها'\n",
    "                    if(record[0]=='حفظ القران الكريم' or record[0]=='مقدرا حفظ القران'):\n",
    "                        record[0]='مقدار حفظ القران'\n",
    "                    if(record[0]=='السن المناسب لكِ' or record[0]=='السن المناسب لها' or record[0]=='السن المناسب له'):\n",
    "                        record[0]=\"السن المناسب\"\n",
    "                    if(record[0]=='المؤهل الذي تفضلينه' or record[0]=='المؤهل الذي تفضله' or record[0] ==\"المؤهل الذي يفضله\"):\n",
    "                        record[0]=\"المؤهل المفضل\"\n",
    "                    #end\n",
    "                    # Males Columns Cleaning (start)\n",
    "                    if(record[0]=='هل تدخن السجائر او غيرها' or record[0]=='تدخين السجائر'):\n",
    "                        record[0]=\"تدخين السجائر او غيرها\"\n",
    "                    if(record[0]=='قيمة ونوع مهر الفتاة الذي يقدر عليه'):\n",
    "                        record[0]='قيمة ونوع المهر'\n",
    "                    if(record[0]=='ركود'):\n",
    "                        record[0]=\"كود\"\n",
    "                    #end\n",
    "                    dic[recNo][record[0]]=record[1].strip()"
   ]
  },
  {
   "cell_type": "code",
   "execution_count": 734,
   "metadata": {},
   "outputs": [],
   "source": [
    "def getForm(text):\n",
    "    global femalesRecord\n",
    "    global malesRecord\n",
    "    lines=text.split('\\n')\n",
    "    for line in lines:\n",
    "        splits=line.split(':')\n",
    "        for split in splits:\n",
    "            if('كود' in split):\n",
    "                form=text.split('\\n')\n",
    "                if('نساء' in form[0]):\n",
    "                    femalesRecord+=1\n",
    "                    collect_data(form,females_data,femalesRecord)\n",
    "                elif('رجال' in form[0]):\n",
    "                    malesRecord+=1\n",
    "                    collect_data(form,males_data,malesRecord)                "
   ]
  },
  {
   "cell_type": "code",
   "execution_count": 735,
   "metadata": {},
   "outputs": [],
   "source": [
    "femalesRecord=0\n",
    "malesRecord=0\n",
    "for message in data['messages']:\n",
    "    if (message['type']=='message'):\n",
    "        if type(message['text'])==list:\n",
    "            i=0\n",
    "            for txt in message['text']:\n",
    "                if(type(txt)==dict):\n",
    "                    message['text'][i]=txt['text']\n",
    "                    i+=1\n",
    "                else:\n",
    "                    i+=1\n",
    "            newTxt=''.join(message['text'])\n",
    "            getForm(newTxt)\n",
    "        else:\n",
    "            getForm(message['text'])\n",
    "females_df=pd.DataFrame.from_dict(females_data,orient='index')\n",
    "males_df=pd.DataFrame.from_dict(males_data,orient='index')"
   ]
  },
  {
   "cell_type": "code",
   "execution_count": 736,
   "metadata": {},
   "outputs": [],
   "source": [
    "males_df.columns=['code','age','weight','height','color','nationality','education','job','status','children','parents_jobs','family_address','area_level','future_resid','maintain_prayer_time','maintain_prayer_masjid','mem_quraan','maintain_sunnah','smoking','extras','accept_age','accept_weight','accept_height','accept_color','accept_education','accept_status','accept_dress','engage_period','mahr','activities']\n",
    "females_df.columns=['code','age','weight','height','color','nationality','education','job','status','children','parents_jobs','family_address','area_level','dress','maintain_prayer','mem_quraan','maintain_sunnah','accept_age','accept_weight','accept_height','accept_color','accept_education','accept_status','engage_period','facilit','additions','accept_resid','accept_address','facilitations']\n"
   ]
  },
  {
   "cell_type": "markdown",
   "metadata": {},
   "source": [
    "## **Creating new dataframe to save the clean data**"
   ]
  },
  {
   "cell_type": "code",
   "execution_count": 737,
   "metadata": {},
   "outputs": [],
   "source": [
    "#creating new dataframe to save the clean data\n",
    "new_males_df = males_df.copy()\n",
    "new_females_df = females_df.copy()"
   ]
  },
  {
   "cell_type": "code",
   "execution_count": 738,
   "metadata": {},
   "outputs": [
    {
     "data": {
      "text/plain": [
       "Index(['code', 'age', 'weight', 'height', 'color', 'nationality', 'education',\n",
       "       'job', 'status', 'area_level', 'future_resid', 'maintain_prayer_time',\n",
       "       'maintain_prayer_masjid', 'accept_age', 'accept_weight',\n",
       "       'accept_height', 'accept_color', 'accept_education', 'accept_status',\n",
       "       'accept_dress', 'engage_period'],\n",
       "      dtype='object')"
      ]
     },
     "execution_count": 738,
     "metadata": {},
     "output_type": "execute_result"
    }
   ],
   "source": [
    "#drop not needed columns for males\n",
    "males_drops = ['accept_address','children','parents_jobs','family_address','mem_quraan','maintain_sunnah','smoking','extras','mahr','activities']\n",
    "for x in males_drops:\n",
    "    if(x in new_males_df.columns):\n",
    "        new_males_df.drop(x, inplace=True, axis=1)\n",
    "new_males_df.columns"
   ]
  },
  {
   "cell_type": "code",
   "execution_count": 739,
   "metadata": {},
   "outputs": [
    {
     "data": {
      "text/plain": [
       "Index(['code', 'age', 'weight', 'height', 'color', 'nationality', 'education',\n",
       "       'job', 'status', 'area_level', 'dress', 'maintain_prayer', 'accept_age',\n",
       "       'accept_weight', 'accept_height', 'accept_color', 'accept_education',\n",
       "       'accept_status', 'engage_period', 'accept_resid'],\n",
       "      dtype='object')"
      ]
     },
     "execution_count": 739,
     "metadata": {},
     "output_type": "execute_result"
    }
   ],
   "source": [
    "#drop not needed columns for females\n",
    "females_drops = ['accept_address','children','parents_jobs','family_address','mem_quraan','maintain_sunnah','facilitations','facilit','additions']\n",
    "for x in females_drops:\n",
    "    if(x in new_females_df.columns):\n",
    "        new_females_df.drop(x, inplace=True, axis=1)\n",
    "new_females_df.columns"
   ]
  },
  {
   "cell_type": "code",
   "execution_count": 740,
   "metadata": {},
   "outputs": [],
   "source": [
    "# females_df.head(10)"
   ]
  },
  {
   "cell_type": "markdown",
   "metadata": {},
   "source": [
    "## **/////////////////////////////////////////////////////////////////////////////////////////////////////**\n",
    "## ***Cleaning Text**"
   ]
  },
  {
   "cell_type": "code",
   "execution_count": 741,
   "metadata": {},
   "outputs": [
    {
     "data": {
      "text/plain": [
       "' علوم  هلوم '"
      ]
     },
     "execution_count": 741,
     "metadata": {},
     "output_type": "execute_result"
    }
   ],
   "source": [
    "#normalization for data\n",
    "#!/usr/bin/python\n",
    "# -*- coding: utf-8 -*-\n",
    "from pyarabic.araby import tokenize\n",
    "from pyarabic.araby import normalize_ligature\n",
    "from pyarabic.araby import tokenize\n",
    "import re \n",
    "import tashaphyne.arabic_const as arabconst \n",
    "def strip_tashkeel(text): \n",
    "    '''\n",
    "\n",
    ">>> text=u\"الْعَرَبِيّةُ\"\n",
    ">>> strip_tashkeel(text)\n",
    "العربية\n",
    "\n",
    "    '''\n",
    "    return arabconst.HARAKAT_PAT.sub('', text)\n",
    "def strip_tatweel(text): \n",
    "\n",
    "    return re.sub(u'[%s]' % arabconst.TATWEEL,    '', text) \n",
    "\n",
    "def normalize_hamza(text): \n",
    "  \n",
    "    text = arabconst.ALEFAT_PAT.sub(arabconst.ALEF, text) \n",
    "    return arabconst.HAMZAT_PAT.sub(arabconst.HAMZA, text) \n",
    "\n",
    "\n",
    "def normalize_lamalef(text): \n",
    " \n",
    "    return arabconst.LAMALEFAT_PAT.sub( u'%s%s'%(arabconst.LAM, arabconst.ALEF), text) \n",
    "\n",
    " \n",
    "def normalize_spellerrors(text): \n",
    "    text = re.sub(u'[%s]' % arabconst.TEH_MARBUTA,    arabconst.HEH, text) \n",
    "    return re.sub(u'[%s]' % arabconst.ALEF_MAKSURA,    arabconst.YEH, text) \n",
    "\n",
    "def clean_str(text):\n",
    "    search =[',', '(',')','_','+','\"','#',' ','/',':','،','أ','.','آ','$']\n",
    "    replace=[' ',' ',' ',' ',' ',' ',' ',' ',' ',' ',' ','ا',' ','ا',' ']\n",
    "    \n",
    "    for i in range(0, len(search)):\n",
    "        text = text.replace(search[i], replace[i])\n",
    "    return text\n",
    "\n",
    "def remove_num(text):\n",
    "    search =['۰',\n",
    "        '0','٠',\n",
    "        '1','۱',\n",
    "        '2','٢',\n",
    "        '3','٣',\n",
    "        '4','٤',\n",
    "        '5','٥',\n",
    "        '6','٦',\n",
    "        '7','۷',\n",
    "        '7','٧',\n",
    "        '8','٨',\n",
    "        '9','٩',\n",
    "        '١']  \n",
    "    for i in range(0, len(search)):\n",
    "        text = text.replace(search[i], ' ')\n",
    "    text = text.strip()\n",
    "    return text\n",
    "    \n",
    "def lam(text):\n",
    "    comment_words = ''\n",
    "    val = str(text)\n",
    " \n",
    "    # split the value\n",
    "    tokens = val.split()\n",
    "    # Converts each token into lowercase\n",
    "    for i in range(len(tokens)):\n",
    "        if tokens[i].startswith(u'ال'):\n",
    "            tokens[i] = tokens[i].replace('ال', ' ')\n",
    "\n",
    "    comment_words += \" \".join(tokens)+\" \"\n",
    "    return comment_words\n",
    "\n",
    " \n",
    "def normalize_searchtext(text):\n",
    "    text = lam(text) \n",
    "    text = clean_str(text)\n",
    "    text = strip_tashkeel(text) \n",
    "    text = strip_tatweel(text) \n",
    "    text = normalize_lamalef(text) \n",
    "    #text = normalize_hamza(text) \n",
    "    text = normalize_spellerrors(text) \n",
    "    text = text.strip()\n",
    "    return text \n",
    "\n",
    "lam(\" العلوم الهلوم\" )\n",
    "#normalize_searchtext(\"الْعَرَبِيّةُ\")\n"
   ]
  },
  {
   "cell_type": "code",
   "execution_count": 742,
   "metadata": {},
   "outputs": [
    {
     "data": {
      "text/plain": [
       "'379.5'"
      ]
     },
     "execution_count": 742,
     "metadata": {},
     "output_type": "execute_result"
    }
   ],
   "source": [
    "# function to convert from arabic number to english \n",
    "import statistics\n",
    "def a2e(persiannumber):\n",
    "    \n",
    "    number={\n",
    "        '0':'۰',\n",
    "        '0':'٠',\n",
    "        '1':'۱',\n",
    "        '2':'٢',\n",
    "        '3':'٣',\n",
    "        '4':'٤',\n",
    "        '5':'٥',\n",
    "        '6':'٦',\n",
    "        '7':'۷',\n",
    "        '7':'٧',\n",
    "        '8':'٨',\n",
    "        '9':'٩',\n",
    "        '1':'١'\n",
    "   }\n",
    "\n",
    "    for i,j in number.items():\n",
    "        persiannumber=persiannumber.replace(j,i)\n",
    "        \n",
    "    return persiannumber\n",
    "\n",
    "def intInText(s):\n",
    "    # if re.search(\"\\d\", s) is not None:\n",
    "    #     for catch in re.finditer(\"\\d\", s):\n",
    "    #         return (catch[0]) # catch is a match object\n",
    "    # else:\n",
    "    #     return 0\n",
    "\n",
    "    number = re.findall('\\d*\\.?\\d+',s)\n",
    "    if len(number) == 0:\n",
    "        return None\n",
    "    \n",
    "    float_numbers = []\n",
    "    for num in number:\n",
    "        float_numbers.append(float(num))\n",
    "    mean = statistics.mean(float_numbers)\n",
    "    if mean == 0:\n",
    "        return None\n",
    "    \n",
    "    return str(mean)\n",
    "\n",
    "intInText(a2e(\"727الى32\"))"
   ]
  },
  {
   "cell_type": "markdown",
   "metadata": {},
   "source": [
    "## **/////////////////////////////////////////////////////////////////////////////////////////////////////**\n",
    "## **Age**"
   ]
  },
  {
   "cell_type": "code",
   "execution_count": 743,
   "metadata": {},
   "outputs": [],
   "source": [
    "# normalize data from outliers \n",
    "def normalize_age(s):\n",
    "    if s == None:\n",
    "        return\n",
    "    if float(s) < 20 or float(s) > 70:\n",
    "        return None\n",
    "    return s"
   ]
  },
  {
   "cell_type": "code",
   "execution_count": 744,
   "metadata": {},
   "outputs": [
    {
     "data": {
      "text/plain": [
       "array([35, 44, 25, 28, 24, 29, 27, 40, 21, 30, 23, 32, 43, 31, 42, 33, 38,\n",
       "       47, 26, 48, 34, 39, 22, 36, 41, 37, 45, 52, 53, 20, 50],\n",
       "      dtype=int64)"
      ]
     },
     "execution_count": 744,
     "metadata": {},
     "output_type": "execute_result"
    }
   ],
   "source": [
    "#clean age for females\n",
    "new_females_df['age'] = females_df['age'].apply(lambda x: intInText(a2e(x)))\n",
    "new_females_df['age'] = new_females_df['age'].apply(lambda x: normalize_age(x))\n",
    "new_females_df['age'] = pd.to_numeric(new_females_df['age'], downcast=\"float\")\n",
    "new_females_df['age'] = new_females_df['age'].fillna(round(new_females_df['age'].mean(),1))\n",
    "new_females_df['age'] = new_females_df['age'].apply(lambda x: int(x))\n",
    "new_females_df['age'].unique()"
   ]
  },
  {
   "cell_type": "code",
   "execution_count": 745,
   "metadata": {},
   "outputs": [
    {
     "data": {
      "text/plain": [
       "array([40, 34, 47, 35, 32, 27, 29, 37, 42, 25, 30, 43, 50, 31, 38, 41, 54,\n",
       "       36, 33, 28, 51, 24, 23, 46, 45, 39, 26, 52, 55, 58, 44, 60, 48, 56,\n",
       "       49], dtype=int64)"
      ]
     },
     "execution_count": 745,
     "metadata": {},
     "output_type": "execute_result"
    }
   ],
   "source": [
    "#clean accept age for females\n",
    "new_females_df['accept_age'] = females_df['accept_age'].apply(lambda x: intInText(a2e(x)))\n",
    "new_females_df['accept_age'] = new_females_df['accept_age'].apply(lambda x: normalize_age(x))\n",
    "new_females_df['accept_age'] = pd.to_numeric(new_females_df['accept_age'], downcast=\"float\")\n",
    "new_females_df['accept_age'] = new_females_df['accept_age'].fillna(round(new_females_df['accept_age'].mean(),1))\n",
    "new_females_df['accept_age'] = new_females_df['accept_age'].apply(lambda x: int(x))\n",
    "new_females_df['accept_age'].unique()"
   ]
  },
  {
   "cell_type": "markdown",
   "metadata": {},
   "source": [
    "## **/////////////////////////////////////////////////////////////////////////////////////////////////////**\n",
    "## **Weight**\n"
   ]
  },
  {
   "cell_type": "code",
   "execution_count": 746,
   "metadata": {},
   "outputs": [],
   "source": [
    "def normalize_weight(s):\n",
    "    if s==None:\n",
    "        return\n",
    "    if float(s) < 45 or float(s) > 150:\n",
    "        return None\n",
    "    return s"
   ]
  },
  {
   "cell_type": "code",
   "execution_count": 747,
   "metadata": {},
   "outputs": [
    {
     "data": {
      "text/plain": [
       "array([ 90,  50,  80,  68,  67,  65,  60,  69,  93,  75,  55,  78,  46,\n",
       "        70,  97,  56,  59,  45,  85,  62,  88,  64,  57,  53,  72,  58,\n",
       "        66,  63, 100,  73,  54,  81,  71,  74, 120,  61,  77,  84,  52,\n",
       "        82, 115,  79], dtype=int64)"
      ]
     },
     "execution_count": 747,
     "metadata": {},
     "output_type": "execute_result"
    }
   ],
   "source": [
    "new_females_df['weight'] = females_df['weight'].apply(lambda x: intInText(a2e(x)))\n",
    "new_females_df['weight'] = new_females_df['weight'].apply(lambda x: normalize_weight(x))\n",
    "new_females_df['weight'] = pd.to_numeric(new_females_df['weight'], downcast=\"float\")\n",
    "new_females_df['weight'] = new_females_df['weight'].fillna(round(new_females_df['weight'].mean(),1))\n",
    "new_females_df['weight']  = new_females_df['weight'].apply(lambda x: int(x))\n",
    "new_females_df['weight'].unique()"
   ]
  },
  {
   "cell_type": "code",
   "execution_count": 748,
   "metadata": {},
   "outputs": [
    {
     "data": {
      "text/plain": [
       "array([ 95,  82,  85,  80,  75, 100,  67,  90,  70,  79,  72,  65,  62,\n",
       "        92,  87,  77, 102,  76,  50, 120,  68], dtype=int64)"
      ]
     },
     "execution_count": 748,
     "metadata": {},
     "output_type": "execute_result"
    }
   ],
   "source": [
    "new_females_df['accept_weight'] = females_df['accept_weight'].apply(lambda x: intInText(a2e(x)))\n",
    "new_females_df['accept_weight'] = new_females_df['accept_weight'].apply(lambda x: normalize_weight(x))\n",
    "new_females_df['accept_weight'] = pd.to_numeric(new_females_df['accept_weight'], downcast=\"integer\")\n",
    "new_females_df['accept_weight'] = new_females_df['accept_weight'].fillna((new_females_df['accept_weight'].mean()))\n",
    "new_females_df['accept_weight'] = pd.to_numeric(new_females_df['accept_weight'], downcast=\"integer\")\n",
    "new_females_df['accept_weight'] = new_females_df['accept_weight'].apply(lambda x: int(x))\n",
    "new_females_df['accept_weight'] .unique()"
   ]
  },
  {
   "cell_type": "markdown",
   "metadata": {},
   "source": [
    "## **/////////////////////////////////////////////////////////////////////////////////////////////////////**\n",
    "## **Height**\n"
   ]
  },
  {
   "cell_type": "code",
   "execution_count": 749,
   "metadata": {},
   "outputs": [],
   "source": [
    "def dec_to_int(s):\n",
    "    \n",
    "    if s == None:\n",
    "        return\n",
    "    if float(s) > 1 and float(s) < 2:\n",
    "        return str(float(s) * 100)\n",
    "    return s\n",
    "\n",
    "def normalize_height(s):\n",
    "    if s == None:\n",
    "        return\n",
    "    if float(s) < 150 or float(s) > 190:\n",
    "        return None\n",
    "    \n",
    "    return s"
   ]
  },
  {
   "cell_type": "code",
   "execution_count": 750,
   "metadata": {},
   "outputs": [
    {
     "data": {
      "text/plain": [
       "array([150, 157, 170, 160, 165, 155, 159, 164, 152, 166, 161, 156, 168,\n",
       "       158, 162, 173, 163, 172, 153, 174, 154, 169, 175, 167, 178, 177],\n",
       "      dtype=int64)"
      ]
     },
     "execution_count": 750,
     "metadata": {},
     "output_type": "execute_result"
    }
   ],
   "source": [
    "new_females_df['height'] = females_df['height'].apply(lambda x: intInText(a2e(x)))\n",
    "new_females_df['height'] = new_females_df['height'].apply(lambda x: dec_to_int(x))\n",
    "new_females_df['height'] = new_females_df['height'].apply(lambda x: normalize_height(x))\n",
    "new_females_df['height'] = pd.to_numeric(new_females_df['height'], downcast=\"float\")\n",
    "new_females_df['height'] = new_females_df['height'].fillna(round(new_females_df['height'].mean(),1))\n",
    "new_females_df['height'] = new_females_df['height'].apply(lambda x : int(x))\n",
    "new_females_df['height'].unique()"
   ]
  },
  {
   "cell_type": "code",
   "execution_count": 751,
   "metadata": {},
   "outputs": [
    {
     "data": {
      "text/plain": [
       "array([160, 171, 180, 170, 175, 165, 166, 172, 167, 168, 169, 173, 190,\n",
       "       177, 178, 155, 182, 185, 162, 164, 184, 158, 150], dtype=int64)"
      ]
     },
     "execution_count": 751,
     "metadata": {},
     "output_type": "execute_result"
    }
   ],
   "source": [
    "new_females_df['accept_height'] = females_df['accept_height'].apply(lambda x: intInText(a2e(x)))\n",
    "new_females_df['accept_height'] = new_females_df['accept_height'].apply(lambda x: dec_to_int(x))\n",
    "new_females_df['accept_height'] = new_females_df['accept_height'].apply(lambda x: normalize_height(x))\n",
    "new_females_df['accept_height'] = pd.to_numeric(new_females_df['accept_height'], downcast=\"float\")\n",
    "new_females_df['accept_height'] = new_females_df['accept_height'].fillna(round(new_females_df['accept_height'].mean(),1))\n",
    "new_females_df['accept_height'] = new_females_df['accept_height'].apply(lambda x : int(x))\n",
    "new_females_df['accept_height'].unique()"
   ]
  },
  {
   "cell_type": "markdown",
   "metadata": {},
   "source": [
    "## **/////////////////////////////////////////////////////////////////////////////////////////////////////**\n",
    "## **Color**"
   ]
  },
  {
   "cell_type": "code",
   "execution_count": 752,
   "metadata": {},
   "outputs": [],
   "source": [
    "# for x in females_df['color'].unique():\n",
    "#     print(x)   \n",
    "# before cleaning "
   ]
  },
  {
   "cell_type": "code",
   "execution_count": 753,
   "metadata": {},
   "outputs": [
    {
     "data": {
      "text/plain": [
       "'بيضاء'"
      ]
     },
     "execution_count": 753,
     "metadata": {},
     "output_type": "execute_result"
    }
   ],
   "source": [
    "def clean_color_females(text):\n",
    "    search = ['فاتح','بيض','بياض', 'خمري', 'قمحي','سمر']\n",
    "    replace = ['قمحيه','بيضاء','بيضاء', 'خمريه', 'قمحيه','سمراء']\n",
    "    if search[0] in text:\n",
    "           text = replace[0]\n",
    "    elif  search[1] in text:\n",
    "        text = replace[1]\n",
    "    elif  search[3] in text:\n",
    "        text = replace[3]\n",
    "    elif  search[2] in text:\n",
    "        text = replace[2]\n",
    "    elif  search[5] in text:\n",
    "        text = replace[5]\n",
    "    elif  search[4] in text:\n",
    "        text = replace[4]\n",
    "    elif text == 'ببضاء':\n",
    "        text = replace[1]\n",
    "    else:\n",
    "        text = replace[3]\n",
    "    return text\n",
    "clean_color_females('الإجابة تميل للبياض الولي')"
   ]
  },
  {
   "cell_type": "code",
   "execution_count": 754,
   "metadata": {},
   "outputs": [
    {
     "data": {
      "text/plain": [
       "array(['سمراء', 'بيضاء', 'قمحيه', 'خمريه'], dtype=object)"
      ]
     },
     "execution_count": 754,
     "metadata": {},
     "output_type": "execute_result"
    }
   ],
   "source": [
    "# after cleaning \n",
    "new_females_df[\"color\"] = females_df[\"color\"].apply(lambda x : clean_color_females(x) )\n",
    "new_females_df[\"color\"].unique()"
   ]
  },
  {
   "cell_type": "markdown",
   "metadata": {},
   "source": [
    "## ***accepted color***\n"
   ]
  },
  {
   "cell_type": "code",
   "execution_count": 755,
   "metadata": {},
   "outputs": [],
   "source": [
    "def clean_accept_color(text):\n",
    "    search = ['بيض', 'خمري', 'قمحي','سمراء','قبول','اي']\n",
    "    replace = ['1','2','3','4','5','5']\n",
    "    for i in range(0, len(search)):\n",
    "        text = text.replace(search[i], replace[i])\n",
    "    return text\n",
    "# clean_accept_color('بيضاء, قمحية')"
   ]
  },
  {
   "cell_type": "code",
   "execution_count": 756,
   "metadata": {},
   "outputs": [
    {
     "name": "stdout",
     "output_type": "stream",
     "text": [
      "1010\n"
     ]
    }
   ],
   "source": [
    "# function to encode array int binary code\n",
    "#  'بيضاء, قمحية' ==> 1010\n",
    "def encode_accept_color(text):\n",
    "    text = clean_accept_color(text)\n",
    "    incode = ''\n",
    "    incode1 = '0'\n",
    "    incode2 = '0'\n",
    "    incode3 = '0'\n",
    "    incode4 = '0'\n",
    "    if '5' in text:\n",
    "        incode1 = '1'\n",
    "        incode2 = '1'\n",
    "        incode3 = '1'\n",
    "        incode4 = '1'\n",
    "    else:\n",
    "        if '4' in text:\n",
    "            incode4 = '1'\n",
    "        if '3' in text:\n",
    "            incode3 = '1'\n",
    "        if '2' in text:\n",
    "            incode2 = '1'\n",
    "        if '1' in text:\n",
    "            incode1 = '1'\n",
    "        if not(('4' in text) or ('3' in text) or ('2' in text) or ('1' in text)):\n",
    "            incode1 = '1'\n",
    "            incode2 = '1'\n",
    "            incode3 = '1'\n",
    "            incode4 = '1'\n",
    "         \n",
    "    incode = incode1 + incode2 + incode3 + incode4\n",
    "    return incode\n",
    "text = 'بيضاء, قمحية'\n",
    "incode = encode_accept_color(text)\n",
    "print(incode)\n"
   ]
  },
  {
   "cell_type": "code",
   "execution_count": 757,
   "metadata": {},
   "outputs": [],
   "source": [
    "#run once \n",
    "females_df[\"accept_color\"]= females_df[\"accept_color\"].apply(lambda x : normalize_searchtext(x) )\n",
    "new_females_df[\"accept_color\"]= females_df[\"accept_color\"].apply(lambda x : encode_accept_color(x) )"
   ]
  },
  {
   "cell_type": "code",
   "execution_count": 758,
   "metadata": {},
   "outputs": [
    {
     "data": {
      "text/plain": [
       "array(['1111', '1010', '0010', '0011', '1000', '1110', '1100', '0100',\n",
       "       '0110', '0111', '1011', '1001', '1101'], dtype=object)"
      ]
     },
     "execution_count": 758,
     "metadata": {},
     "output_type": "execute_result"
    }
   ],
   "source": [
    "# after encoding\n",
    "new_females_df[\"accept_color\"].unique()"
   ]
  },
  {
   "cell_type": "markdown",
   "metadata": {},
   "source": [
    "## **/////////////////////////////////////////////////////////////////////////////////////////////////////**\n",
    "##  ***Status***"
   ]
  },
  {
   "cell_type": "code",
   "execution_count": 759,
   "metadata": {},
   "outputs": [
    {
     "data": {
      "text/plain": [
       "array(['انسه', 'مطلقه', 'ارمله'], dtype=object)"
      ]
     },
     "execution_count": 759,
     "metadata": {},
     "output_type": "execute_result"
    }
   ],
   "source": [
    "#using normalize function\n",
    "new_females_df[\"status\"]= females_df[\"status\"].apply(lambda x : normalize_searchtext(remove_num(x)) )\n",
    "for x in new_females_df['status']:\n",
    "    if x is None:\n",
    "        x = 'انسه'\n",
    "new_females_df[\"status\"].unique()"
   ]
  },
  {
   "cell_type": "markdown",
   "metadata": {},
   "source": [
    "## ***accept_status***"
   ]
  },
  {
   "cell_type": "code",
   "execution_count": 760,
   "metadata": {},
   "outputs": [],
   "source": [
    "# for x in females_df[\"accept_status\"].unique():\n",
    "#     print(x)"
   ]
  },
  {
   "cell_type": "code",
   "execution_count": 761,
   "metadata": {},
   "outputs": [
    {
     "data": {
      "text/plain": [
       "['ارمل بدون اولاد', 'اعزب', 'مطلق']"
      ]
     },
     "execution_count": 761,
     "metadata": {},
     "output_type": "execute_result"
    }
   ],
   "source": [
    "# clean accept_status\n",
    "def cleen_accept_status(text):\n",
    "    \n",
    "    search = ['متزوج','اعزب','ارمل له','مطلق', 'لم يسبق له', 'ارمل بدون']\n",
    "    replace = ['متزوج','اعزب','ارمل له اولاد','مطلق', 'اعزب', 'ارمل بدون اولاد']\n",
    "    s = []\n",
    "    if search[5] in text:\n",
    "        s.append(replace[5])\n",
    "    if search[4] in text:\n",
    "        s.append(replace[4])\n",
    "    if search[3] in text:\n",
    "        s.append(replace[3]) \n",
    "    if search[2] in text:\n",
    "        s.append( replace[2])\n",
    "    if search[1] in text:\n",
    "       s.append(replace[1])\n",
    "    if search[0] in text:\n",
    "        s.append(replace[0])\n",
    "    if len(s) == 0:\n",
    "        s =  ['متزوج','اعزب','ارمل له اولاد','مطلق','ارمل بدون اولاد']\n",
    "    return s\n",
    "cleen_accept_status('لم يسبق له الزواج, مطلق/ ارمل بدون أولاد, مطلق ')\n",
    "\n",
    "# females_df[\"accept_status\"].head(20)\n",
    "  "
   ]
  },
  {
   "cell_type": "code",
   "execution_count": 762,
   "metadata": {},
   "outputs": [],
   "source": [
    "females_df[\"accept_status\"]= females_df[\"accept_status\"].apply(lambda x : normalize_searchtext(x) )\n",
    "new_females_df[\"accept_status\"]= females_df[\"accept_status\"].apply(lambda x : cleen_accept_status(x) )"
   ]
  },
  {
   "cell_type": "markdown",
   "metadata": {},
   "source": [
    "## **/////////////////////////////////////////////////////////////////////////////////////////////////////**\n",
    "\n",
    "## **Jobs**\n"
   ]
  },
  {
   "cell_type": "code",
   "execution_count": 763,
   "metadata": {},
   "outputs": [],
   "source": [
    "females_df[\"job\"]= females_df[\"job\"].apply(lambda x : normalize_searchtext(x))\n",
    "# Check \n",
    "# for x in females_df['job'].unique():\n",
    "#     print(x)"
   ]
  },
  {
   "cell_type": "code",
   "execution_count": 764,
   "metadata": {},
   "outputs": [],
   "source": [
    "# search = ['هندس' , 'معلم','مدرس','طب','دكتور','محاسب','لا اعمل','لا يهم']\n",
    "# replace = ['مهندسة' , 'معلمة','معلمة','طبيبة','طبيبة','محاسبة','ربة منزل','موظفة']\n",
    "# for x,y in zip(search, replace):\n",
    "#        print(x, \" \", y)\n",
    "# replace[7]\n",
    " "
   ]
  },
  {
   "cell_type": "code",
   "execution_count": 765,
   "metadata": {},
   "outputs": [],
   "source": [
    "# clean accept_education \n",
    "def encode_job(text):\n",
    "    search = ['هندس' , 'معلم','مدرس','طب','دكتور','محاسب','لا اعمل','لا يهم']\n",
    "    replace = ['مهندسة' , 'معلمة','معلمة','طبيبة','طبيبة','محاسبة','ربة منزل','موظفة']\n",
    "    if search[1] in text:\n",
    "       text = replace[1]\n",
    "    elif  search[2] in text:\n",
    "        text = replace[2]\n",
    "    elif  search[3] in text:\n",
    "        text = replace[3]\n",
    "    elif  search[0] in text:\n",
    "        text = replace[0]\n",
    "    elif  search[5] in text:\n",
    "        text = replace[5]\n",
    "    elif  search[6] in text:\n",
    "        text = replace[6]\n",
    "    elif  search[7] in text:\n",
    "        text = replace[7]\n",
    "    elif search[4] in text:\n",
    "        text = replace[4]\n",
    "    else:\n",
    "        text = replace[7]\n",
    "    return text\n",
    "    \n",
    "# hh = ' ي خريج كليه لارت  او  '\n",
    "# encode_job(hh)"
   ]
  },
  {
   "cell_type": "code",
   "execution_count": 766,
   "metadata": {},
   "outputs": [
    {
     "name": "stdout",
     "output_type": "stream",
     "text": [
      "محاسبة\n",
      "موظفة\n",
      "طبيبة\n",
      "ربة منزل\n",
      "معلمة\n",
      "مهندسة\n"
     ]
    }
   ],
   "source": [
    "new_females_df[\"job\"] = females_df[\"job\"].apply(lambda x : encode_job(x) )\n",
    "for x in new_females_df['job'].unique():\n",
    "    print(x)"
   ]
  },
  {
   "cell_type": "code",
   "execution_count": 767,
   "metadata": {},
   "outputs": [
    {
     "data": {
      "text/plain": [
       "job    0\n",
       "dtype: int64"
      ]
     },
     "execution_count": 767,
     "metadata": {},
     "output_type": "execute_result"
    }
   ],
   "source": [
    "# check there is no null elemet \n",
    "new_females_df[[\"job\"]].isnull().sum()"
   ]
  },
  {
   "cell_type": "markdown",
   "metadata": {},
   "source": [
    "## **/////////////////////////////////////////////////////////////////////////////////////////////////////**\n",
    "\n",
    "## **education**\n"
   ]
  },
  {
   "cell_type": "code",
   "execution_count": 768,
   "metadata": {},
   "outputs": [],
   "source": [
    "# clean accept_education\n",
    "def encode_education(text):\n",
    "    search = ['جامعي' ,'فوق','متوسط']\n",
    "    if search[0] in text and search[1] in text:\n",
    "        text = 'فوق جامعي'\n",
    "    elif search[0] in text:\n",
    "       text = search[0]\n",
    "    else:\n",
    "        text = search[2]\n",
    "    return text"
   ]
  },
  {
   "cell_type": "code",
   "execution_count": 769,
   "metadata": {},
   "outputs": [
    {
     "name": "stdout",
     "output_type": "stream",
     "text": [
      "جامعي\n",
      "متوسط\n",
      "فوق جامعي\n"
     ]
    }
   ],
   "source": [
    "females_df[\"education\"]= females_df[\"education\"].apply(lambda x : normalize_searchtext((x)) )\n",
    "new_females_df[\"education\"]= females_df[\"education\"].apply(lambda x : encode_education((x)) )\n",
    "for x in new_females_df['education'].unique():\n",
    "    print(x)"
   ]
  },
  {
   "cell_type": "markdown",
   "metadata": {},
   "source": [
    "## **accept_education**"
   ]
  },
  {
   "cell_type": "code",
   "execution_count": 770,
   "metadata": {},
   "outputs": [
    {
     "data": {
      "text/plain": [
       "array(['جامعي', 'متوسط', 'فوق جامعي'], dtype=object)"
      ]
     },
     "execution_count": 770,
     "metadata": {},
     "output_type": "execute_result"
    }
   ],
   "source": [
    "females_df[\"accept_education\"] = females_df[\"accept_education\"].apply(lambda x : encode_education(x) )\n",
    "new_females_df[\"accept_education\"] = females_df[\"accept_education\"].apply(lambda x : encode_education(x) )\n",
    "new_females_df[\"accept_education\"].unique()"
   ]
  },
  {
   "cell_type": "markdown",
   "metadata": {},
   "source": [
    "## **Engage_period**"
   ]
  },
  {
   "cell_type": "code",
   "execution_count": 771,
   "metadata": {},
   "outputs": [
    {
     "name": "stdout",
     "output_type": "stream",
     "text": [
      "x\n"
     ]
    }
   ],
   "source": [
    "females_df['engage_period'].isnull().sum()\n",
    "text = None\n",
    "if text == None:\n",
    "    text = \"x\"\n",
    "print(text) "
   ]
  },
  {
   "cell_type": "code",
   "execution_count": 772,
   "metadata": {},
   "outputs": [],
   "source": [
    "# for x in males_df[\"engage_period\"].unique():\n",
    "#     print(x)\n",
    "# males_df[\"engage_period\"].describe()\n",
    "# search = ['سنة ليس اكتر','سنة ليس اكثر' ,'3 شهور' ,'6 شهور']\n",
    "# search[0]"
   ]
  },
  {
   "cell_type": "code",
   "execution_count": 773,
   "metadata": {},
   "outputs": [
    {
     "name": "stdout",
     "output_type": "stream",
     "text": [
      "3\n"
     ]
    }
   ],
   "source": [
    "# clean accept_education\n",
    "def encode_engage_period(text1):\n",
    "    search = ['سنة ليس اكتر','سنة ليس اكثر' ,'3 شهور' ,'6 شهور']\n",
    "    period = 0\n",
    "    text = str(text1)\n",
    "    if search[1] in text:\n",
    "        period = 12\n",
    "    elif search[2] in text:\n",
    "        period = 3\n",
    "    elif search[0] in text:\n",
    "        period = 12\n",
    "    elif search[3] in text:\n",
    "        period = 6\n",
    "    else:\n",
    "        period = 3    \n",
    "    return period\n",
    "print (encode_engage_period('3 شهور' ))"
   ]
  },
  {
   "cell_type": "code",
   "execution_count": 774,
   "metadata": {},
   "outputs": [
    {
     "name": "stdout",
     "output_type": "stream",
     "text": [
      "3\n",
      "12\n",
      "6\n"
     ]
    }
   ],
   "source": [
    "new_females_df[\"engage_period\"] = females_df[\"engage_period\"].apply(lambda x : encode_engage_period(x) )\n",
    "for x in new_females_df[\"engage_period\"].unique():\n",
    "    print(x)"
   ]
  },
  {
   "cell_type": "code",
   "execution_count": 775,
   "metadata": {},
   "outputs": [
    {
     "name": "stdout",
     "output_type": "stream",
     "text": [
      "6\n",
      "3\n",
      "12\n"
     ]
    }
   ],
   "source": [
    "new_males_df[\"engage_period\"] = males_df[\"engage_period\"].apply(lambda x : encode_engage_period(x) )\n",
    "for x in new_males_df[\"engage_period\"].unique():\n",
    "    print(x)\n"
   ]
  },
  {
   "cell_type": "markdown",
   "metadata": {},
   "source": [
    "## **/////////////////////////////////////////////////////////////////////////////////////////////////////**\n",
    "##  ***Nationality***"
   ]
  },
  {
   "cell_type": "code",
   "execution_count": 776,
   "metadata": {},
   "outputs": [
    {
     "data": {
      "text/plain": [
       "count       392\n",
       "unique        1\n",
       "top       مصرية\n",
       "freq        392\n",
       "Name: nationality, dtype: object"
      ]
     },
     "execution_count": 776,
     "metadata": {},
     "output_type": "execute_result"
    }
   ],
   "source": [
    "new_females_df[\"nationality\"].describe()\n",
    "# no cleaning needed"
   ]
  },
  {
   "cell_type": "markdown",
   "metadata": {},
   "source": [
    "## **/////////////////////////////////////////////////////////////////////////////////////////////////////**\n",
    "##  ***area_level***"
   ]
  },
  {
   "cell_type": "code",
   "execution_count": 777,
   "metadata": {},
   "outputs": [],
   "source": [
    "new_females_df['area_level'] = females_df['area_level'].apply(lambda x : normalize_searchtext(x))\n",
    "new_males_df['area_level'] = males_df['area_level'].apply(lambda x : normalize_searchtext(x))"
   ]
  },
  {
   "cell_type": "code",
   "execution_count": 778,
   "metadata": {},
   "outputs": [
    {
     "data": {
      "text/plain": [
       "array(['متوسط', 'مرتفع', 'شعبي', 'ريفي'], dtype=object)"
      ]
     },
     "execution_count": 778,
     "metadata": {},
     "output_type": "execute_result"
    }
   ],
   "source": [
    "males_df['area_level'].unique()"
   ]
  },
  {
   "cell_type": "markdown",
   "metadata": {},
   "source": [
    "## **/////////////////////////////////////////////////////////////////////////////////////////////////////**\n",
    "##  ***prayer**"
   ]
  },
  {
   "cell_type": "code",
   "execution_count": 779,
   "metadata": {},
   "outputs": [],
   "source": [
    "# search = ['نعم', 'غالبا', 'نعم بفضل  له', 'لا']\n",
    "# replace = ['نعم', 'غالبا', 'نعم', 'لا']"
   ]
  },
  {
   "cell_type": "code",
   "execution_count": 780,
   "metadata": {},
   "outputs": [
    {
     "data": {
      "text/plain": [
       "'نعم'"
      ]
     },
     "execution_count": 780,
     "metadata": {},
     "output_type": "execute_result"
    }
   ],
   "source": [
    "# clean accept_education\n",
    "def encode_prayer(text):\n",
    "    search = ['حمد لله','نعم', 'غالبا', 'نعم بفضل  له', 'لا']\n",
    "    replace = ['نعم','نعم', 'غالبا', 'نعم', 'لا']\n",
    "\n",
    "    if search[0] in text:\n",
    "        text = replace[0]\n",
    "    elif search[1] in text:\n",
    "       text = replace[1]\n",
    "    elif search[2] in text:\n",
    "        text = replace[2]\n",
    "    elif search[3] in text:\n",
    "        text = replace[3]\n",
    "    elif search[4] in text:\n",
    "        text = replace[4]\n",
    "    return text\n",
    "encode_prayer('نعم بفضل  له')"
   ]
  },
  {
   "cell_type": "code",
   "execution_count": 781,
   "metadata": {},
   "outputs": [],
   "source": [
    "females_df['maintain_prayer'] = females_df['maintain_prayer'].apply(lambda x : normalize_searchtext(x))\n",
    "new_females_df['maintain_prayer'] = females_df['maintain_prayer'].apply(lambda x : encode_prayer(x))\n",
    "###########################################################################################################\n",
    "###### Males maintain_prayer_masjid\n",
    "males_df['maintain_prayer_masjid'] = males_df['maintain_prayer_masjid'].apply(lambda x : normalize_searchtext(x))\n",
    "new_males_df['maintain_prayer_masjid'] = males_df['maintain_prayer_masjid'].apply(lambda x : encode_prayer(x))\n",
    "\n",
    "###########################################################################################################\n",
    "###### Males maintain_prayer_masjid\n",
    "males_df['maintain_prayer_time'] = males_df['maintain_prayer_time'].apply(lambda x : normalize_searchtext(x))\n",
    "new_males_df['maintain_prayer_time'] = males_df['maintain_prayer_time'].apply(lambda x : encode_prayer(x))\n"
   ]
  },
  {
   "cell_type": "code",
   "execution_count": 782,
   "metadata": {},
   "outputs": [
    {
     "data": {
      "text/plain": [
       "array(['نعم', 'غالبا', 'لا'], dtype=object)"
      ]
     },
     "execution_count": 782,
     "metadata": {},
     "output_type": "execute_result"
    }
   ],
   "source": [
    "new_females_df['maintain_prayer'].unique()"
   ]
  },
  {
   "cell_type": "markdown",
   "metadata": {},
   "source": [
    "## **/////////////////////////////////////////////////////////////////////////////////////////////////////**\n",
    "##  ***dress**"
   ]
  },
  {
   "cell_type": "code",
   "execution_count": 783,
   "metadata": {},
   "outputs": [],
   "source": [
    "# search = ['طرحة', 'نقاب', 'خمار', 'خمار  وأوقات طرحة لو اللبس واسع وفضفاض','خمار  وتسعى للنقاب']\n",
    "# replace = ['طرحة', 'نقاب', 'خمار', 'خمار','خمار']"
   ]
  },
  {
   "cell_type": "code",
   "execution_count": 784,
   "metadata": {},
   "outputs": [
    {
     "data": {
      "text/plain": [
       "'خمار'"
      ]
     },
     "execution_count": 784,
     "metadata": {},
     "output_type": "execute_result"
    }
   ],
   "source": [
    "# clean accept_education\n",
    "def encode_dress_females(text):\n",
    "    search = ['طرحة', 'نقاب', 'خمار', 'خمار  وأوقات طرحة لو اللبس واسع وفضفاض','خمار  وتسعى للنقاب']\n",
    "    replace = ['طرحة', 'نقاب', 'خمار', 'خمار','خمار']\n",
    "\n",
    "    if search[3] in text:\n",
    "        text = replace[3]\n",
    "    elif search[1] in text:\n",
    "       text = replace[1]\n",
    "    elif search[2] in text:\n",
    "        text = replace[2]\n",
    "    elif search[0] in text:\n",
    "        text = replace[0]\n",
    "    elif search[4] in text:\n",
    "        text = replace[4]\n",
    "    return text\n",
    "encode_dress_females('خمار  وأوقات طرحة لو اللبس واسع وفضفاض ')"
   ]
  },
  {
   "cell_type": "code",
   "execution_count": 785,
   "metadata": {},
   "outputs": [],
   "source": [
    "new_females_df['dress'] = females_df['dress'].apply(lambda x : encode_dress_females(x))"
   ]
  },
  {
   "cell_type": "code",
   "execution_count": 786,
   "metadata": {},
   "outputs": [
    {
     "data": {
      "text/plain": [
       "array(['طرحة', 'نقاب', 'خمار'], dtype=object)"
      ]
     },
     "execution_count": 786,
     "metadata": {},
     "output_type": "execute_result"
    }
   ],
   "source": [
    "new_females_df['dress'].unique()"
   ]
  },
  {
   "cell_type": "markdown",
   "metadata": {},
   "source": [
    "## */////////////////////////////////////////////////////////////////////////////////////////////////////*\n",
    "##  **future_resid**"
   ]
  },
  {
   "cell_type": "code",
   "execution_count": 787,
   "metadata": {},
   "outputs": [
    {
     "data": {
      "text/plain": [
       "'بيت عائله في شقه منفصله'"
      ]
     },
     "execution_count": 787,
     "metadata": {},
     "output_type": "execute_result"
    }
   ],
   "source": [
    "# clean accept_education\n",
    "def encode_future_resid(text):\n",
    "    search = ['تمليك','ايجار','عائله','ملك','شقه']\n",
    "    replace = ['شقه تمليك','ايجار','بيت عائله في شقه منفصله','شقه تمليك','شقه تمليك','حسب الاتفاق']\n",
    "    \n",
    "    if search[2] in text:\n",
    "        text = replace[2]\n",
    "    elif search[1] in text:\n",
    "       text = replace[1]\n",
    "    elif search[3] in text:\n",
    "        text = replace[3]\n",
    "    elif search[0] in text:\n",
    "        text = replace[0]\n",
    "    elif search[4] in text:\n",
    "        text = replace[4]\n",
    "    else:\n",
    "         text = replace[5]\n",
    "    return text\n",
    "encode_future_resid('بيت عائله في شقه خاصه لحين استلام اسكان اجتماعي')"
   ]
  },
  {
   "cell_type": "code",
   "execution_count": 788,
   "metadata": {},
   "outputs": [
    {
     "name": "stdout",
     "output_type": "stream",
     "text": [
      "حسب الاتفاق\n",
      "ايجار\n",
      "شقه تمليك\n",
      "بيت عائله في شقه منفصله\n"
     ]
    }
   ],
   "source": [
    "females_df['accept_resid'] = females_df['accept_resid'].apply(lambda x : normalize_searchtext(x))\n",
    "new_females_df['accept_resid'] = females_df['accept_resid'].apply(lambda x : encode_future_resid(x))\n",
    "for x in new_females_df['accept_resid'].unique():\n",
    "    print(x)"
   ]
  },
  {
   "cell_type": "markdown",
   "metadata": {},
   "source": [
    "## */////////////////////////////////////////////////////////////////////////////////////////////////////*\n"
   ]
  },
  {
   "cell_type": "code",
   "execution_count": 789,
   "metadata": {},
   "outputs": [],
   "source": [
    "# females_df.head(10)"
   ]
  },
  {
   "cell_type": "markdown",
   "metadata": {},
   "source": [
    "## **/////////////////////////////////////////////////////////////////////////////////////////////////////**\n",
    "#  **Male**"
   ]
  },
  {
   "cell_type": "markdown",
   "metadata": {},
   "source": [
    "## **Males age Column Cleaning**"
   ]
  },
  {
   "cell_type": "code",
   "execution_count": 790,
   "metadata": {},
   "outputs": [],
   "source": [
    "# run once\n",
    "males_df['age'].replace(\"23   الوزن : 65.0\", \"23\", inplace=True) "
   ]
  },
  {
   "cell_type": "code",
   "execution_count": 791,
   "metadata": {},
   "outputs": [
    {
     "data": {
      "text/plain": [
       "array([37, 30, 27, 42, 44, 35, 26, 33, 28, 24, 25, 39, 23, 32, 29, 51, 20,\n",
       "       40, 36, 48, 65, 22, 34, 49, 21, 52, 46, 45, 31, 54, 57, 59, 41, 63,\n",
       "       43, 50, 56, 38, 47, 60, 53, 61, 68, 58, 55, 62], dtype=int64)"
      ]
     },
     "execution_count": 791,
     "metadata": {},
     "output_type": "execute_result"
    }
   ],
   "source": [
    "new_males_df['age'] = males_df['age'].apply(lambda x: intInText(a2e(x)))\n",
    "new_males_df['age'] = new_males_df['age'].apply(lambda x: normalize_age(x))\n",
    "new_males_df['age'] = pd.to_numeric(new_males_df['age'], downcast=\"float\")\n",
    "new_males_df['age'] = new_males_df['age'].fillna(round(new_males_df['age'].mean(),1))\n",
    "new_males_df['age'] = new_males_df['age'].apply(lambda x: int(x))\n",
    "new_males_df['age'].unique()"
   ]
  },
  {
   "cell_type": "markdown",
   "metadata": {},
   "source": [
    "## **Males age Column Cleaning**"
   ]
  },
  {
   "cell_type": "code",
   "execution_count": 792,
   "metadata": {},
   "outputs": [],
   "source": [
    "# run once\n",
    "males_df['accept_age'].replace(\"23.24\",\"23-24\",inplace=True)\n",
    "males_df['accept_age'].replace(\"28.29.30\",\"28-29-30\",inplace=True)\n",
    "males_df['accept_age'].replace(\"5340.0\",\"53-40.0\",inplace=True)\n",
    "males_df['accept_age'].replace(\"سبعة وعشرين حتي اثنان وثلاثين\",\"27-32\",inplace=True)"
   ]
  },
  {
   "cell_type": "code",
   "execution_count": 793,
   "metadata": {},
   "outputs": [
    {
     "data": {
      "text/plain": [
       "array([33, 24, 22, 30, 32, 25, 28, 23, 20, 21, 27, 40, 37, 35, 34, 36, 29,\n",
       "       26, 39, 31, 41, 38, 47, 50, 45, 44, 42, 46, 51, 43], dtype=int64)"
      ]
     },
     "execution_count": 793,
     "metadata": {},
     "output_type": "execute_result"
    }
   ],
   "source": [
    "new_males_df['accept_age'] = males_df['accept_age'].apply(lambda x: intInText(a2e(x)))\n",
    "new_males_df['accept_age'] = new_males_df['accept_age'].apply(lambda x: normalize_age(x))\n",
    "new_males_df['accept_age'] = pd.to_numeric(new_males_df['accept_age'], downcast=\"float\")\n",
    "new_males_df['accept_age'] = new_males_df['accept_age'].fillna(round(new_males_df['accept_age'].mean(),1))\n",
    "new_males_df['accept_age'] = new_males_df['accept_age'].apply(lambda x: int(x))\n",
    "new_males_df['accept_age'].unique()"
   ]
  },
  {
   "cell_type": "markdown",
   "metadata": {},
   "source": [
    "## **Males weight Column Cleaning**"
   ]
  },
  {
   "cell_type": "code",
   "execution_count": 794,
   "metadata": {},
   "outputs": [],
   "source": [
    "# run once\n",
    "males_df['weight'] = males_df['weight'].apply(lambda x: str(x)) \n",
    "males_df['weight'].replace(\"80بحاول نزول\", \"0\", inplace=True) \n",
    "males_df['weight'].replace(\"١٠٠ كيلو ( بس عامل دايت وبخس وناوي انزل ل( ٧٠  - ٧٥  ) كيلو باذن الله . والله المستعان\",\"١٠٠ كيلو\",inplace=True)"
   ]
  },
  {
   "cell_type": "code",
   "execution_count": 795,
   "metadata": {},
   "outputs": [
    {
     "data": {
      "text/plain": [
       "array([ 90,  70,  95,  65,  72,  85,  75,  59, 102,  92,  88,  78, 105,\n",
       "        80,  76,  84,  63,  94,  97,  57,  69, 115,  60, 130,  96,  79,\n",
       "       100,  77,  68,  71, 110,  87,  73,  67,  74,  93, 103,  98, 113,\n",
       "        64,  53,  82,  58,  83,  99,  62,  61,  55,  91,  45,  89,  81,\n",
       "       120, 119,  86, 116], dtype=int64)"
      ]
     },
     "execution_count": 795,
     "metadata": {},
     "output_type": "execute_result"
    }
   ],
   "source": [
    "new_males_df['weight'] = males_df['weight'].apply(lambda x: intInText(a2e(x)))\n",
    "new_males_df['weight'] = new_males_df['weight'].apply(lambda x: normalize_weight(x))\n",
    "new_males_df['weight'] = pd.to_numeric(new_males_df['weight'], downcast=\"float\")\n",
    "new_males_df['weight'] = new_males_df['weight'].fillna(round(new_males_df['weight'].mean(),1))\n",
    "new_males_df['weight'] = new_males_df['weight'].apply(lambda x: int(x))\n",
    "new_males_df['weight'].unique()\n"
   ]
  },
  {
   "cell_type": "markdown",
   "metadata": {},
   "source": [
    "## **Males accept weight Column Cleaning**"
   ]
  },
  {
   "cell_type": "code",
   "execution_count": 796,
   "metadata": {},
   "outputs": [
    {
     "data": {
      "text/plain": [
       "array([ 65,  60, 130,  70,  75,  68,  67,  59,  55,  80,  63,  50,  57,\n",
       "        62,  72, 115,  85,  90,  52, 100,  77,  82,  45,  61,  56],\n",
       "      dtype=int64)"
      ]
     },
     "execution_count": 796,
     "metadata": {},
     "output_type": "execute_result"
    }
   ],
   "source": [
    "new_males_df['accept_weight'] = males_df['accept_weight'].apply(lambda x: intInText(a2e(x)))\n",
    "new_males_df['accept_weight'] = new_males_df['accept_weight'].apply(lambda x: normalize_weight(x))\n",
    "new_males_df['accept_weight'] = pd.to_numeric(new_males_df['accept_weight'], downcast=\"float\")\n",
    "new_males_df['accept_weight'] = new_males_df['accept_weight'].fillna(round(new_males_df['accept_weight'].mean(),1))\n",
    "new_males_df['accept_weight'] = new_males_df['accept_weight'].apply(lambda x: int(x))\n",
    "new_males_df['accept_weight'].unique()"
   ]
  },
  {
   "cell_type": "markdown",
   "metadata": {},
   "source": [
    "## **Males height Column Cleaning**"
   ]
  },
  {
   "cell_type": "code",
   "execution_count": 797,
   "metadata": {},
   "outputs": [
    {
     "data": {
      "text/plain": [
       "array([185, 160, 170, 177, 172, 165, 176, 175, 167, 184, 180, 173, 190,\n",
       "       178, 186, 168, 171, 187, 183, 166, 179, 188, 174, 159, 163, 189,\n",
       "       158, 169, 161, 181, 162, 164, 182, 155], dtype=int64)"
      ]
     },
     "execution_count": 797,
     "metadata": {},
     "output_type": "execute_result"
    }
   ],
   "source": [
    "new_males_df['height'] = males_df['height'].apply(lambda x: intInText(a2e(x)))\n",
    "new_males_df['height'] = new_males_df['height'].apply(lambda x: dec_to_int(x))\n",
    "new_males_df['height'] = new_males_df['height'].apply(lambda x: normalize_height(x))\n",
    "new_males_df['height'] = pd.to_numeric(new_males_df['height'], downcast=\"float\")\n",
    "new_males_df['height'] = new_males_df['height'].fillna(round(new_males_df['height'].mean(),1))\n",
    "new_males_df['height'] = new_males_df['height'].apply(lambda x: int(x))\n",
    "new_males_df['height'].unique()\n"
   ]
  },
  {
   "cell_type": "markdown",
   "metadata": {},
   "source": [
    "## **Males accept height Column Cleaning**"
   ]
  },
  {
   "cell_type": "code",
   "execution_count": 798,
   "metadata": {},
   "outputs": [],
   "source": [
    "#run once\n",
    "males_df['accept_height'].replace(\"156.158.160\",\"156-158-160\", inplace=True)\n",
    "males_df['accept_height'].replace(\"160165.0\",\"160-165.0\", inplace=True)\n",
    "males_df['accept_height'].replace(\"1,50-1,70\",\"1.50-1.70\", inplace=True)\n",
    "males_df['accept_height'].replace(\"0.0\",\"0\", inplace=True)"
   ]
  },
  {
   "cell_type": "code",
   "execution_count": 799,
   "metadata": {},
   "outputs": [
    {
     "data": {
      "text/plain": [
       "array([165, 164, 170, 160, 177, 150, 162, 175, 167, 161, 155, 172, 163,\n",
       "       168, 159, 166, 180, 171, 158, 157, 169, 183, 156, 179, 173],\n",
       "      dtype=int64)"
      ]
     },
     "execution_count": 799,
     "metadata": {},
     "output_type": "execute_result"
    }
   ],
   "source": [
    "new_males_df['accept_height'] = males_df['accept_height'].apply(lambda x: intInText(a2e(x)))\n",
    "new_males_df['accept_height'] = new_males_df['accept_height'].apply(lambda x: dec_to_int(x))\n",
    "new_males_df['accept_height'] = new_males_df['accept_height'].apply(lambda x: normalize_height(x))\n",
    "new_males_df['accept_height'] = pd.to_numeric(new_males_df['accept_height'], downcast=\"float\")\n",
    "new_males_df['accept_height'] = new_males_df['accept_height'].fillna(round(new_males_df['accept_height'].mean(),1))\n",
    "new_males_df['accept_height'] = new_males_df['accept_height'].apply(lambda x: int(x))\n",
    "new_males_df['accept_height'].unique()\n"
   ]
  },
  {
   "cell_type": "markdown",
   "metadata": {},
   "source": [
    "**Helmy's part ends**"
   ]
  },
  {
   "cell_type": "markdown",
   "metadata": {},
   "source": [
    "## **Males accept_dress**"
   ]
  },
  {
   "cell_type": "markdown",
   "metadata": {},
   "source": []
  },
  {
   "cell_type": "code",
   "execution_count": 800,
   "metadata": {},
   "outputs": [
    {
     "data": {
      "text/plain": [
       "['خمار', 'نقاب', 'طرحة']"
      ]
     },
     "execution_count": 800,
     "metadata": {},
     "output_type": "execute_result"
    }
   ],
   "source": [
    "# clean accept_dress\n",
    "def encode_accept_dress(text):\n",
    "    replace = ['طرحة', 'نقاب', 'خمار']\n",
    "    s = []\n",
    "    if replace[2] in text:\n",
    "        s.append( replace[2])\n",
    "    if replace[1] in text:\n",
    "       s.append(replace[1])\n",
    "    if replace[0] in text:\n",
    "        s.append(replace[0])\n",
    "    return s\n",
    "encode_accept_dress('خمار  وأوقات طرحة لو اللبس نقاب وفضفاض ')"
   ]
  },
  {
   "cell_type": "code",
   "execution_count": 801,
   "metadata": {},
   "outputs": [
    {
     "data": {
      "text/plain": [
       "1     [خمار, نقاب, طرحة]\n",
       "2     [خمار, نقاب, طرحة]\n",
       "3     [خمار, نقاب, طرحة]\n",
       "4                 [نقاب]\n",
       "5                 [نقاب]\n",
       "6                 [نقاب]\n",
       "7           [خمار, نقاب]\n",
       "8           [خمار, نقاب]\n",
       "9                 [نقاب]\n",
       "10          [خمار, نقاب]\n",
       "Name: accept_dress, dtype: object"
      ]
     },
     "execution_count": 801,
     "metadata": {},
     "output_type": "execute_result"
    }
   ],
   "source": [
    "###########################################################################################################\n",
    "###### Males accept_dress\n",
    "new_males_df['accept_dress'] = males_df['accept_dress'].apply(lambda x : encode_accept_dress(x))\n",
    "new_males_df['accept_dress'].head(10)\n"
   ]
  },
  {
   "cell_type": "markdown",
   "metadata": {},
   "source": [
    "## **Males future_residence**"
   ]
  },
  {
   "cell_type": "code",
   "execution_count": 802,
   "metadata": {},
   "outputs": [
    {
     "name": "stdout",
     "output_type": "stream",
     "text": [
      "تمليك\n",
      "إيجار\n",
      "بيت عائله في شقه خاصه\n",
      "ان شاء  له شقه منفصله تمليك ف مرحله  بحث عنها\n",
      "بيت عائله مشترك\n",
      "إيجار والمستقبلي تمليك ان شاء  له\n",
      "حسب  اتفاق\n",
      "إيجار ويوجد تمليك\n",
      "يوجد سكن مسجد    ويوجد بيت تمليك غير جاهز\n",
      "ايجار مؤقت وبعد كده تمليك\n",
      "هو انا عندي مشكله ف موضوع  سكن ده فياريت الاقي إنسانه معاها سكن\n",
      "فيلا تابعه لشغل والده وهو مقدم علي شقه في  إسكان  اجتماعي بمايو\n",
      "متملك و لكن ناوي اقعد في إيجار مساحه اكبر\n",
      "بيت عائله في شقه منفصله\n",
      "جيزه\n",
      "لدي شقه تمليك في  عجمي لكن اسكن في شقه إيجار في  إسكندريه لانها قريب من  عمل\n",
      "مقدم في  إسكان  اجتماعي ويوجد منزل عائله ولكن بحاجه لتشطيبات\n",
      "بالكويت\n",
      "حدائق اكتوبر\n",
      "تمليك او إيجار كلاهما متاح\n",
      "املك شقه ولكن ساتزوج في ايجار  ي ان يوسع  له علي و استطيع تجهيزها\n",
      "او إيجار\n",
      "شقه ملك في منزل 3 ادوار   في  دور  اول امي فقط\n",
      "بيت عائله في شقه خاصه لحين استلام  اسكان  اجتماعي\n",
      "تمليك او بيت عيله منفصل\n",
      "شقه تمليك مستقله و والدتي ستعيش معي بعد  زواج\n",
      "ايجار حاليا ثم  تمليك\n",
      "ايجار قديم وتمليك\n",
      "ايجار في  غردقه\n",
      "ايجار ثم تمليك\n",
      "ايجار ثم تمليك بعد  زواج بسنه ان شاء  له مع  علم ان عندي شقه ملك في بيت  عائله\n",
      "سكن تمليك بعماره\n",
      "ايجار قديم\n"
     ]
    },
    {
     "data": {
      "text/plain": [
       "count       520\n",
       "unique       33\n",
       "top       تمليك\n",
       "freq        248\n",
       "Name: future_resid, dtype: object"
      ]
     },
     "execution_count": 802,
     "metadata": {},
     "output_type": "execute_result"
    }
   ],
   "source": [
    "#run once\n",
    "males_df[\"future_resid\"]= males_df[\"future_resid\"].apply(lambda x : normalize_searchtext(x) )\n",
    "for x in males_df[\"future_resid\"].unique():\n",
    "    print(x)\n",
    "males_df[\"future_resid\"].describe()"
   ]
  },
  {
   "cell_type": "code",
   "execution_count": 803,
   "metadata": {},
   "outputs": [],
   "source": [
    "# search = ['تمليك','ايجار','عائله','ملك','شقه']\n",
    "# replace = ['شقه تمليك','ايجار','بيت عائله','شقه تمليك','شقه تمليك','حسب الاتفاق']\n",
    "# for x in search:\n",
    "#     print(x)\n",
    "# for x in replace:\n",
    "#     print(x)\n"
   ]
  },
  {
   "cell_type": "code",
   "execution_count": 804,
   "metadata": {},
   "outputs": [
    {
     "data": {
      "text/plain": [
       "'بيت عائله'"
      ]
     },
     "execution_count": 804,
     "metadata": {},
     "output_type": "execute_result"
    }
   ],
   "source": [
    "# clean accept_education\n",
    "def encode_future_resid(text):\n",
    "    search = ['تمليك','ايجار','عائله','ملك','شقه']\n",
    "    replace = ['شقه تمليك','ايجار','بيت عائله','شقه تمليك','شقه تمليك','حسب الاتفاق']\n",
    "    \n",
    "    if search[2] in text:\n",
    "        text = replace[2]\n",
    "    elif search[1] in text:\n",
    "       text = replace[1]\n",
    "    elif search[3] in text:\n",
    "        text = replace[3]\n",
    "    elif search[0] in text:\n",
    "        text = replace[0]\n",
    "    elif search[4] in text:\n",
    "        text = replace[4]\n",
    "    else:\n",
    "         text = replace[5]\n",
    "    return text\n",
    "encode_future_resid('بيت عائله في شقه خاصه لحين استلام اسكان اجتماعي')"
   ]
  },
  {
   "cell_type": "code",
   "execution_count": 805,
   "metadata": {},
   "outputs": [
    {
     "name": "stdout",
     "output_type": "stream",
     "text": [
      "شقه تمليك\n",
      "حسب الاتفاق\n",
      "بيت عائله\n",
      "ايجار\n"
     ]
    }
   ],
   "source": [
    "new_males_df[\"future_resid\"]= males_df[\"future_resid\"].apply(lambda x : encode_future_resid(x) )\n",
    "for x in new_males_df[\"future_resid\"].unique():\n",
    "    print(x)"
   ]
  },
  {
   "cell_type": "markdown",
   "metadata": {},
   "source": [
    "## **Males education**"
   ]
  },
  {
   "cell_type": "code",
   "execution_count": 806,
   "metadata": {},
   "outputs": [],
   "source": [
    "#run once\n",
    "males_df['education']=males_df['education'].apply(lambda x: normalize_searchtext(x))"
   ]
  },
  {
   "cell_type": "code",
   "execution_count": 807,
   "metadata": {},
   "outputs": [],
   "source": [
    "# encoding education to categories\n",
    "def encode_education_males(text):\n",
    "    search = ['جامعي' ,'فوق','متوسط']\n",
    "    if search[0] in text and search[1] in text:\n",
    "        text = 'فوق جامعي'\n",
    "    elif search[0] in text:\n",
    "       text = search[0]\n",
    "    else:\n",
    "        text = search[2]\n",
    "    return text"
   ]
  },
  {
   "cell_type": "code",
   "execution_count": 808,
   "metadata": {},
   "outputs": [
    {
     "name": "stdout",
     "output_type": "stream",
     "text": [
      "جامعي\n",
      "متوسط\n",
      "فوق جامعي\n"
     ]
    }
   ],
   "source": [
    "new_males_df['education']=males_df['education'].apply(lambda x: encode_education_males(x))\n",
    "for x in new_males_df[\"education\"].unique():\n",
    "    print(x)"
   ]
  },
  {
   "cell_type": "markdown",
   "metadata": {},
   "source": [
    "## **Males Color**"
   ]
  },
  {
   "cell_type": "code",
   "execution_count": 809,
   "metadata": {},
   "outputs": [],
   "source": [
    "#run once\n",
    "males_df['color']=males_df['color'].apply(lambda x: normalize_searchtext(x))"
   ]
  },
  {
   "cell_type": "code",
   "execution_count": 810,
   "metadata": {},
   "outputs": [],
   "source": [
    "#cleaning males color column\n",
    "def color_clean_males(text):\n",
    "    search = ['بيض','بياض', 'خمري', 'قمحي','سمر']\n",
    "    replace = ['1','1','2','3','4']\n",
    "    for i in range(0, len(search)):\n",
    "        text = text.replace(search[i], replace[i])\n",
    "    return text"
   ]
  },
  {
   "cell_type": "code",
   "execution_count": 811,
   "metadata": {},
   "outputs": [],
   "source": [
    "#encoding males color into categories\n",
    "def encode_color_males(text):\n",
    "    text = color_clean_males(text)\n",
    "    if '4' in text:\n",
    "        return 'اسمر'\n",
    "    elif '3' in text:\n",
    "        return 'قمحي'\n",
    "    elif '2' in text:\n",
    "        return'خمري'\n",
    "    elif '1' in text:\n",
    "        return 'ابيض'\n",
    "    else:\n",
    "        return 'قمحي'"
   ]
  },
  {
   "cell_type": "code",
   "execution_count": 812,
   "metadata": {},
   "outputs": [
    {
     "name": "stdout",
     "output_type": "stream",
     "text": [
      "ابيض\n",
      "قمحي\n",
      "خمري\n",
      "اسمر\n"
     ]
    }
   ],
   "source": [
    "new_males_df['color']=males_df['color'].apply(lambda x: encode_color_males(x))\n",
    "for x in new_males_df[\"color\"].unique():\n",
    "    print(x)"
   ]
  },
  {
   "cell_type": "markdown",
   "metadata": {},
   "source": [
    "## **Males nationality**"
   ]
  },
  {
   "cell_type": "code",
   "execution_count": 813,
   "metadata": {},
   "outputs": [],
   "source": [
    "#run once\n",
    "males_df['nationality']=males_df['nationality'].apply(lambda x: normalize_searchtext(x))"
   ]
  },
  {
   "cell_type": "code",
   "execution_count": 814,
   "metadata": {},
   "outputs": [],
   "source": [
    "#clean nationality for males\n",
    "def nationality_clean_males(text):\n",
    "    if \"مصري\" in text:\n",
    "        return \"مصري\"\n",
    "    else:\n",
    "        return text"
   ]
  },
  {
   "cell_type": "code",
   "execution_count": 815,
   "metadata": {},
   "outputs": [
    {
     "name": "stdout",
     "output_type": "stream",
     "text": [
      "مصري\n",
      "اردني\n",
      "سعودي\n",
      "فرنسي\n",
      "فلسطيني\n",
      "صومالي\n"
     ]
    },
    {
     "data": {
      "text/plain": [
       "count      520\n",
       "unique       6\n",
       "top       مصري\n",
       "freq       513\n",
       "Name: nationality, dtype: object"
      ]
     },
     "execution_count": 815,
     "metadata": {},
     "output_type": "execute_result"
    }
   ],
   "source": [
    "new_males_df['nationality']=males_df['nationality'].apply(lambda x: nationality_clean_males(x))\n",
    "for x in new_males_df[\"nationality\"].unique():\n",
    "    print(x)\n",
    "new_males_df['nationality'].describe()"
   ]
  },
  {
   "cell_type": "markdown",
   "metadata": {},
   "source": [
    "## **Males Status Column Cleaning**"
   ]
  },
  {
   "cell_type": "code",
   "execution_count": 816,
   "metadata": {},
   "outputs": [
    {
     "data": {
      "text/plain": [
       "array(['مطلق', 'ارمل', 'اعزب', 'متزوج'], dtype=object)"
      ]
     },
     "execution_count": 816,
     "metadata": {},
     "output_type": "execute_result"
    }
   ],
   "source": [
    "#run once\n",
    "new_males_df['status']=males_df['status'].apply(lambda x: normalize_searchtext(x))\n",
    "new_males_df['status'].unique()"
   ]
  },
  {
   "cell_type": "markdown",
   "metadata": {},
   "source": [
    "## **Males area_level Column Cleaning**"
   ]
  },
  {
   "cell_type": "code",
   "execution_count": 817,
   "metadata": {},
   "outputs": [
    {
     "data": {
      "text/plain": [
       "array(['متوسط', 'مرتفع', 'شعبي', 'ريفي'], dtype=object)"
      ]
     },
     "execution_count": 817,
     "metadata": {},
     "output_type": "execute_result"
    }
   ],
   "source": [
    "#run once\n",
    "new_males_df['area_level']=males_df['area_level'].apply(lambda x: normalize_searchtext(x))\n",
    "new_males_df['area_level'].unique()"
   ]
  },
  {
   "cell_type": "markdown",
   "metadata": {},
   "source": [
    "## **Males accept_color Column Cleaning**"
   ]
  },
  {
   "cell_type": "code",
   "execution_count": 818,
   "metadata": {},
   "outputs": [],
   "source": [
    "#run once\n",
    "males_df['accept_color']=males_df['accept_color'].apply(lambda x: normalize_searchtext(x))"
   ]
  },
  {
   "cell_type": "code",
   "execution_count": 819,
   "metadata": {},
   "outputs": [],
   "source": [
    "# clean males' accept_color\n",
    "def accept_color_clean_males(text):\n",
    "    search = ['سبق','بيض', 'خمري', 'قمحي','سمراء','اي']\n",
    "    replace = ['1','2','3','4','5','5']\n",
    "    for i in range(0, len(search)):\n",
    "        text = text.replace(search[i], replace[i])\n",
    "    return text"
   ]
  },
  {
   "cell_type": "code",
   "execution_count": 820,
   "metadata": {},
   "outputs": [],
   "source": [
    "# encode males accept color to categories\n",
    "def encode_accept_color_males(text):\n",
    "    text = color_clean_males(text)\n",
    "    encode=''\n",
    "    encode1='0'\n",
    "    encode2='0'\n",
    "    encode3='0'\n",
    "    encode4='0'\n",
    "    if '5' in text:\n",
    "        encode1='1'\n",
    "        encode2='1'\n",
    "        encode3='1'\n",
    "        encode4='1'\n",
    "    else:\n",
    "        if '4' in text:\n",
    "            encode4='1'\n",
    "        if '3' in text:\n",
    "            encode3= '1'\n",
    "        if '2' in text:\n",
    "            encode2= '1'\n",
    "        if '1' in text:\n",
    "            encode1= '1'\n",
    "        if not(('4' in text) or ('3' in text) or ('2' in text) or ('1' in text)):\n",
    "            encode1='1'\n",
    "            encode2='1'\n",
    "            encode3='1'\n",
    "            encode4='1'\n",
    "    encode=encode1+encode2+encode3+encode4\n",
    "    return encode"
   ]
  },
  {
   "cell_type": "code",
   "execution_count": 821,
   "metadata": {},
   "outputs": [
    {
     "data": {
      "text/plain": [
       "array(['1010', '1000', '1011', '1111', '0010', '1110', '1100', '0100',\n",
       "       '0110', '0001'], dtype=object)"
      ]
     },
     "execution_count": 821,
     "metadata": {},
     "output_type": "execute_result"
    }
   ],
   "source": [
    "new_males_df['accept_color']=males_df['accept_color'].apply(lambda x: encode_accept_color_males(x))\n",
    "new_males_df['accept_color'].unique()"
   ]
  },
  {
   "cell_type": "markdown",
   "metadata": {},
   "source": [
    "## **Males accept_education Column Cleaning**"
   ]
  },
  {
   "cell_type": "code",
   "execution_count": 822,
   "metadata": {},
   "outputs": [],
   "source": [
    "# run once\n",
    "males_df['accept_education']=males_df['accept_education'].apply(lambda x: normalize_searchtext(x))"
   ]
  },
  {
   "cell_type": "code",
   "execution_count": 823,
   "metadata": {},
   "outputs": [],
   "source": [
    "# clean males' accept education\n",
    "def accept_education_clean_males(text):\n",
    "    search=['جامعي','فوق','متوسط']\n",
    "    if search[0] in text and search[1] in text:\n",
    "        return 'فوق جامعي'\n",
    "    elif search[0] in text:\n",
    "        return search[0]\n",
    "    else:\n",
    "        return search[2]"
   ]
  },
  {
   "cell_type": "code",
   "execution_count": 824,
   "metadata": {},
   "outputs": [
    {
     "data": {
      "text/plain": [
       "array(['جامعي', 'متوسط', 'فوق جامعي'], dtype=object)"
      ]
     },
     "execution_count": 824,
     "metadata": {},
     "output_type": "execute_result"
    }
   ],
   "source": [
    "new_males_df['accept_education']=males_df['accept_education'].apply(lambda x: accept_education_clean_males(x))\n",
    "new_males_df['accept_education'].unique()"
   ]
  },
  {
   "cell_type": "markdown",
   "metadata": {},
   "source": [
    "## **Males accept_status Column Cleaning**"
   ]
  },
  {
   "cell_type": "code",
   "execution_count": 825,
   "metadata": {},
   "outputs": [],
   "source": [
    "# run once\n",
    "males_df['accept_status'] = males_df['accept_status'].apply(lambda x: normalize_searchtext(x))"
   ]
  },
  {
   "cell_type": "code",
   "execution_count": 826,
   "metadata": {},
   "outputs": [],
   "source": [
    "# clean accept_status\n",
    "def cleen_accept_status(text):\n",
    "    \n",
    "    search = ['لها','مطلقه', 'بكر', 'ارمله','بدون']\n",
    "    replace = ['مطلقه لهااولاد','ارمله', 'بكر', 'مطلقه بدون اولاد']\n",
    "    s = []\n",
    "\n",
    "    if search[4] in text and search[3] in text:\n",
    "        s.append(replace[3])\n",
    "    if search[2] in text:\n",
    "        s.append(replace[1]) \n",
    "    if search[1] in text:\n",
    "        s.append( replace[2])\n",
    "    if search[0] in text and search[3] in text :\n",
    "        s.append(replace[0])\n",
    "    if len(s) == 0:\n",
    "        s =  ['مطلقه لهااولاد','ارمله', 'بكر', 'مطلقه بدون اولاد']\n",
    "    return s"
   ]
  },
  {
   "cell_type": "code",
   "execution_count": 827,
   "metadata": {},
   "outputs": [
    {
     "data": {
      "text/plain": [
       "1                             [مطلقه بدون اولاد, بكر]\n",
       "2                      [مطلقه بدون اولاد, ارمله, بكر]\n",
       "3                      [مطلقه بدون اولاد, ارمله, بكر]\n",
       "4                                             [ارمله]\n",
       "5                                             [ارمله]\n",
       "                            ...                      \n",
       "516    [مطلقه بدون اولاد, ارمله, بكر, مطلقه لهااولاد]\n",
       "517                    [مطلقه بدون اولاد, ارمله, بكر]\n",
       "518                           [مطلقه بدون اولاد, بكر]\n",
       "519                                           [ارمله]\n",
       "520                                           [ارمله]\n",
       "Name: accept_status, Length: 520, dtype: object"
      ]
     },
     "execution_count": 827,
     "metadata": {},
     "output_type": "execute_result"
    }
   ],
   "source": [
    "new_males_df['accept_status'] = males_df['accept_status'].apply(lambda x: cleen_accept_status(x))\n",
    "new_males_df['accept_status']"
   ]
  },
  {
   "cell_type": "markdown",
   "metadata": {},
   "source": [
    "## **Males jobs Column Cleaning**"
   ]
  },
  {
   "cell_type": "code",
   "execution_count": 828,
   "metadata": {},
   "outputs": [
    {
     "data": {
      "image/png": "[encoded data removed]",
      "text/plain": [
       "<Figure size 576x576 with 1 Axes>"
      ]
     },
     "metadata": {
      "needs_background": "light"
     },
     "output_type": "display_data"
    }
   ],
   "source": [
    "# Creating a word cloud for males jobs to count requent jobs\n",
    "\n",
    "from collections import Counter\n",
    "from wordcloud import WordCloud          # pip install wordcloud\n",
    "import matplotlib.pyplot as plt          \n",
    "# -- Arabic text dependencies\n",
    "from arabic_reshaper import reshape      # pip install arabic-reshaper\n",
    "from bidi.algorithm import get_display   # pip install python-bidi\n",
    "\n",
    "def plot_word_cloud(text,f = 20):\n",
    "    rtl = lambda w: get_display(reshape(f'{w}'))\n",
    "\n",
    "    COUNTS = Counter(text.split())\n",
    "    counts = {rtl(k):v for k, v in COUNTS.most_common(f)}\n",
    "    wordcloud = WordCloud(width = 800, height = 800, \n",
    "                background_color ='black', \n",
    "                stopwords=None,\n",
    "                font_path='arial',\n",
    "                min_font_size = 10).generate_from_frequencies(counts)\n",
    "    plt.figure(figsize = (8, 8), facecolor = None) \n",
    "    plt.imshow(wordcloud, interpolation=\"bilinear\")   \n",
    "    plt.axis(\"off\")\n",
    "    plt.show()\n",
    "\n",
    "\n",
    "#functions to covert array to string \n",
    "def word_cloud(x):\n",
    "\n",
    "    comment_words = ''\n",
    "# iterate through the csv file\n",
    "    for val in x:\n",
    "        \n",
    "        # typecaste each val to string\n",
    "        val = str(val)\n",
    "    \n",
    "        # split the value\n",
    "        tokens = val.split()\n",
    "        \n",
    "        # Converts each token into lowercase\n",
    "        for i in range(len(tokens)):\n",
    "            tokens[i] = tokens[i].lower()\n",
    "        \n",
    "        comment_words += \" \".join(tokens)+\" \"\n",
    "\n",
    "    reshaped_text = (comment_words)\n",
    "    plot_word_cloud(reshaped_text,30)\n",
    "#print((comment_words))\n",
    "word_cloud(males_df['job'])"
   ]
  },
  {
   "cell_type": "code",
   "execution_count": 829,
   "metadata": {},
   "outputs": [],
   "source": [
    "# encoding males jobs into categories\n",
    "\n",
    "def encode_job_male(text):\n",
    "    search = ['تدريس','محفظ','قرآن','خطيب','إمام','حرة','حر','خاص','تاجر','مندوب','محاسب','صاحب','مدير','هندس','معلم','مدرس']\n",
    "    replace = ['موظف','إمام','أعمال حرة','تاجر','مندوب','محاسب','مدير','مهندس','مدرس']\n",
    "\n",
    "    if search[0] in text or search[14] in text or search[15] in text:\n",
    "        text = replace[8]\n",
    "    \n",
    "    elif search[11] in text or search[12] in text:\n",
    "        text = replace[6]\n",
    "    \n",
    "    elif search[9] in text:\n",
    "        text = replace[4]\n",
    "    \n",
    "    elif search[13] in text:\n",
    "        text = replace[7]\n",
    "    \n",
    "    elif search[10] in text:\n",
    "        text = replace[5]\n",
    "    \n",
    "    elif search[8] in text:\n",
    "        text = replace[3]\n",
    "    \n",
    "    elif search[5] in text or search[6] in text or search[7] in text:\n",
    "        text = replace[2]\n",
    "    \n",
    "    elif search[1] in text or search[2] in text or search[3] in text or search[4] in text:\n",
    "        text = replace[1]\n",
    "    \n",
    "    else:\n",
    "        text = replace[0]\n",
    "    \n",
    "    return text\n",
    "    \n",
    "\n"
   ]
  },
  {
   "cell_type": "code",
   "execution_count": 830,
   "metadata": {},
   "outputs": [
    {
     "data": {
      "text/plain": [
       "array(['موظف', 'تاجر', 'إمام', 'مدير', 'مدرس', 'محاسب', 'مهندس',\n",
       "       'أعمال حرة', 'مندوب'], dtype=object)"
      ]
     },
     "execution_count": 830,
     "metadata": {},
     "output_type": "execute_result"
    }
   ],
   "source": [
    "new_males_df['job'] = males_df['job'].apply(lambda x: encode_job_male(x))\n",
    "new_males_df['job'].unique()"
   ]
  },
  {
   "cell_type": "markdown",
   "metadata": {},
   "source": [
    "## **Show dataframe**"
   ]
  },
  {
   "cell_type": "code",
   "execution_count": 831,
   "metadata": {},
   "outputs": [
    {
     "data": {
      "text/html": [
       "<div>\n",
       "<style scoped>\n",
       "    .dataframe tbody tr th:only-of-type {\n",
       "        vertical-align: middle;\n",
       "    }\n",
       "\n",
       "    .dataframe tbody tr th {\n",
       "        vertical-align: top;\n",
       "    }\n",
       "\n",
       "    .dataframe thead th {\n",
       "        text-align: right;\n",
       "    }\n",
       "</style>\n",
       "<table border=\"1\" class=\"dataframe\">\n",
       "  <thead>\n",
       "    <tr style=\"text-align: right;\">\n",
       "      <th></th>\n",
       "      <th>code</th>\n",
       "      <th>age</th>\n",
       "      <th>weight</th>\n",
       "      <th>height</th>\n",
       "      <th>color</th>\n",
       "      <th>nationality</th>\n",
       "      <th>education</th>\n",
       "      <th>job</th>\n",
       "      <th>status</th>\n",
       "      <th>area_level</th>\n",
       "      <th>...</th>\n",
       "      <th>maintain_prayer_time</th>\n",
       "      <th>maintain_prayer_masjid</th>\n",
       "      <th>accept_age</th>\n",
       "      <th>accept_weight</th>\n",
       "      <th>accept_height</th>\n",
       "      <th>accept_color</th>\n",
       "      <th>accept_education</th>\n",
       "      <th>accept_status</th>\n",
       "      <th>accept_dress</th>\n",
       "      <th>engage_period</th>\n",
       "    </tr>\n",
       "  </thead>\n",
       "  <tbody>\n",
       "    <tr>\n",
       "      <th>1</th>\n",
       "      <td>2 رجال</td>\n",
       "      <td>37</td>\n",
       "      <td>90</td>\n",
       "      <td>185</td>\n",
       "      <td>ابيض</td>\n",
       "      <td>مصري</td>\n",
       "      <td>جامعي</td>\n",
       "      <td>موظف</td>\n",
       "      <td>مطلق</td>\n",
       "      <td>متوسط</td>\n",
       "      <td>...</td>\n",
       "      <td>نعم</td>\n",
       "      <td>نعم</td>\n",
       "      <td>33</td>\n",
       "      <td>65</td>\n",
       "      <td>165</td>\n",
       "      <td>1010</td>\n",
       "      <td>جامعي</td>\n",
       "      <td>[مطلقه بدون اولاد, بكر]</td>\n",
       "      <td>[خمار, نقاب, طرحة]</td>\n",
       "      <td>6</td>\n",
       "    </tr>\n",
       "    <tr>\n",
       "      <th>2</th>\n",
       "      <td>3 رجال</td>\n",
       "      <td>30</td>\n",
       "      <td>70</td>\n",
       "      <td>160</td>\n",
       "      <td>قمحي</td>\n",
       "      <td>مصري</td>\n",
       "      <td>متوسط</td>\n",
       "      <td>تاجر</td>\n",
       "      <td>ارمل</td>\n",
       "      <td>مرتفع</td>\n",
       "      <td>...</td>\n",
       "      <td>نعم</td>\n",
       "      <td>غالبا</td>\n",
       "      <td>24</td>\n",
       "      <td>60</td>\n",
       "      <td>164</td>\n",
       "      <td>1000</td>\n",
       "      <td>متوسط</td>\n",
       "      <td>[مطلقه بدون اولاد, ارمله, بكر]</td>\n",
       "      <td>[خمار, نقاب, طرحة]</td>\n",
       "      <td>3</td>\n",
       "    </tr>\n",
       "    <tr>\n",
       "      <th>3</th>\n",
       "      <td>6 رجال</td>\n",
       "      <td>30</td>\n",
       "      <td>95</td>\n",
       "      <td>170</td>\n",
       "      <td>قمحي</td>\n",
       "      <td>مصري</td>\n",
       "      <td>جامعي</td>\n",
       "      <td>إمام</td>\n",
       "      <td>اعزب</td>\n",
       "      <td>متوسط</td>\n",
       "      <td>...</td>\n",
       "      <td>غالبا</td>\n",
       "      <td>غالبا</td>\n",
       "      <td>22</td>\n",
       "      <td>130</td>\n",
       "      <td>170</td>\n",
       "      <td>1011</td>\n",
       "      <td>جامعي</td>\n",
       "      <td>[مطلقه بدون اولاد, ارمله, بكر]</td>\n",
       "      <td>[خمار, نقاب, طرحة]</td>\n",
       "      <td>3</td>\n",
       "    </tr>\n",
       "    <tr>\n",
       "      <th>4</th>\n",
       "      <td>9 رجال</td>\n",
       "      <td>27</td>\n",
       "      <td>65</td>\n",
       "      <td>177</td>\n",
       "      <td>قمحي</td>\n",
       "      <td>مصري</td>\n",
       "      <td>متوسط</td>\n",
       "      <td>موظف</td>\n",
       "      <td>اعزب</td>\n",
       "      <td>متوسط</td>\n",
       "      <td>...</td>\n",
       "      <td>نعم</td>\n",
       "      <td>نعم</td>\n",
       "      <td>30</td>\n",
       "      <td>70</td>\n",
       "      <td>160</td>\n",
       "      <td>1111</td>\n",
       "      <td>متوسط</td>\n",
       "      <td>[ارمله]</td>\n",
       "      <td>[نقاب]</td>\n",
       "      <td>6</td>\n",
       "    </tr>\n",
       "    <tr>\n",
       "      <th>5</th>\n",
       "      <td>11 رجال</td>\n",
       "      <td>42</td>\n",
       "      <td>70</td>\n",
       "      <td>172</td>\n",
       "      <td>قمحي</td>\n",
       "      <td>مصري</td>\n",
       "      <td>فوق جامعي</td>\n",
       "      <td>مدير</td>\n",
       "      <td>اعزب</td>\n",
       "      <td>متوسط</td>\n",
       "      <td>...</td>\n",
       "      <td>نعم</td>\n",
       "      <td>نعم</td>\n",
       "      <td>32</td>\n",
       "      <td>75</td>\n",
       "      <td>177</td>\n",
       "      <td>1010</td>\n",
       "      <td>جامعي</td>\n",
       "      <td>[ارمله]</td>\n",
       "      <td>[نقاب]</td>\n",
       "      <td>12</td>\n",
       "    </tr>\n",
       "    <tr>\n",
       "      <th>6</th>\n",
       "      <td>4 رجال</td>\n",
       "      <td>42</td>\n",
       "      <td>72</td>\n",
       "      <td>165</td>\n",
       "      <td>قمحي</td>\n",
       "      <td>مصري</td>\n",
       "      <td>جامعي</td>\n",
       "      <td>إمام</td>\n",
       "      <td>متزوج</td>\n",
       "      <td>مرتفع</td>\n",
       "      <td>...</td>\n",
       "      <td>نعم</td>\n",
       "      <td>نعم</td>\n",
       "      <td>25</td>\n",
       "      <td>68</td>\n",
       "      <td>170</td>\n",
       "      <td>1000</td>\n",
       "      <td>جامعي</td>\n",
       "      <td>[مطلقه بدون اولاد, ارمله, بكر]</td>\n",
       "      <td>[نقاب]</td>\n",
       "      <td>3</td>\n",
       "    </tr>\n",
       "    <tr>\n",
       "      <th>7</th>\n",
       "      <td>5 رجال</td>\n",
       "      <td>44</td>\n",
       "      <td>85</td>\n",
       "      <td>176</td>\n",
       "      <td>ابيض</td>\n",
       "      <td>مصري</td>\n",
       "      <td>جامعي</td>\n",
       "      <td>مدرس</td>\n",
       "      <td>متزوج</td>\n",
       "      <td>متوسط</td>\n",
       "      <td>...</td>\n",
       "      <td>نعم</td>\n",
       "      <td>نعم</td>\n",
       "      <td>28</td>\n",
       "      <td>60</td>\n",
       "      <td>160</td>\n",
       "      <td>1111</td>\n",
       "      <td>جامعي</td>\n",
       "      <td>[مطلقه بدون اولاد, ارمله, بكر]</td>\n",
       "      <td>[خمار, نقاب]</td>\n",
       "      <td>3</td>\n",
       "    </tr>\n",
       "    <tr>\n",
       "      <th>8</th>\n",
       "      <td>12 رجال</td>\n",
       "      <td>42</td>\n",
       "      <td>75</td>\n",
       "      <td>175</td>\n",
       "      <td>قمحي</td>\n",
       "      <td>مصري</td>\n",
       "      <td>فوق جامعي</td>\n",
       "      <td>محاسب</td>\n",
       "      <td>اعزب</td>\n",
       "      <td>متوسط</td>\n",
       "      <td>...</td>\n",
       "      <td>نعم</td>\n",
       "      <td>غالبا</td>\n",
       "      <td>28</td>\n",
       "      <td>68</td>\n",
       "      <td>164</td>\n",
       "      <td>1111</td>\n",
       "      <td>جامعي</td>\n",
       "      <td>[ارمله]</td>\n",
       "      <td>[خمار, نقاب]</td>\n",
       "      <td>6</td>\n",
       "    </tr>\n",
       "    <tr>\n",
       "      <th>9</th>\n",
       "      <td>13 رجال</td>\n",
       "      <td>37</td>\n",
       "      <td>75</td>\n",
       "      <td>167</td>\n",
       "      <td>ابيض</td>\n",
       "      <td>مصري</td>\n",
       "      <td>فوق جامعي</td>\n",
       "      <td>مدرس</td>\n",
       "      <td>اعزب</td>\n",
       "      <td>متوسط</td>\n",
       "      <td>...</td>\n",
       "      <td>نعم</td>\n",
       "      <td>غالبا</td>\n",
       "      <td>23</td>\n",
       "      <td>67</td>\n",
       "      <td>160</td>\n",
       "      <td>1000</td>\n",
       "      <td>جامعي</td>\n",
       "      <td>[ارمله]</td>\n",
       "      <td>[نقاب]</td>\n",
       "      <td>3</td>\n",
       "    </tr>\n",
       "    <tr>\n",
       "      <th>10</th>\n",
       "      <td>14 رجال</td>\n",
       "      <td>35</td>\n",
       "      <td>85</td>\n",
       "      <td>177</td>\n",
       "      <td>قمحي</td>\n",
       "      <td>مصري</td>\n",
       "      <td>جامعي</td>\n",
       "      <td>إمام</td>\n",
       "      <td>متزوج</td>\n",
       "      <td>متوسط</td>\n",
       "      <td>...</td>\n",
       "      <td>نعم</td>\n",
       "      <td>نعم</td>\n",
       "      <td>25</td>\n",
       "      <td>67</td>\n",
       "      <td>170</td>\n",
       "      <td>1000</td>\n",
       "      <td>جامعي</td>\n",
       "      <td>[مطلقه بدون اولاد, ارمله, بكر]</td>\n",
       "      <td>[خمار, نقاب]</td>\n",
       "      <td>3</td>\n",
       "    </tr>\n",
       "    <tr>\n",
       "      <th>11</th>\n",
       "      <td>16 رجال</td>\n",
       "      <td>26</td>\n",
       "      <td>70</td>\n",
       "      <td>170</td>\n",
       "      <td>ابيض</td>\n",
       "      <td>مصري</td>\n",
       "      <td>متوسط</td>\n",
       "      <td>موظف</td>\n",
       "      <td>اعزب</td>\n",
       "      <td>مرتفع</td>\n",
       "      <td>...</td>\n",
       "      <td>غالبا</td>\n",
       "      <td>غالبا</td>\n",
       "      <td>20</td>\n",
       "      <td>68</td>\n",
       "      <td>164</td>\n",
       "      <td>1111</td>\n",
       "      <td>متوسط</td>\n",
       "      <td>[مطلقه لهااولاد, ارمله, بكر, مطلقه بدون اولاد]</td>\n",
       "      <td>[طرحة]</td>\n",
       "      <td>6</td>\n",
       "    </tr>\n",
       "    <tr>\n",
       "      <th>12</th>\n",
       "      <td>26 رجال</td>\n",
       "      <td>27</td>\n",
       "      <td>59</td>\n",
       "      <td>170</td>\n",
       "      <td>قمحي</td>\n",
       "      <td>مصري</td>\n",
       "      <td>فوق جامعي</td>\n",
       "      <td>موظف</td>\n",
       "      <td>اعزب</td>\n",
       "      <td>متوسط</td>\n",
       "      <td>...</td>\n",
       "      <td>نعم</td>\n",
       "      <td>غالبا</td>\n",
       "      <td>23</td>\n",
       "      <td>65</td>\n",
       "      <td>150</td>\n",
       "      <td>1000</td>\n",
       "      <td>فوق جامعي</td>\n",
       "      <td>[ارمله]</td>\n",
       "      <td>[خمار, نقاب]</td>\n",
       "      <td>12</td>\n",
       "    </tr>\n",
       "    <tr>\n",
       "      <th>13</th>\n",
       "      <td>30 رجال</td>\n",
       "      <td>33</td>\n",
       "      <td>75</td>\n",
       "      <td>170</td>\n",
       "      <td>قمحي</td>\n",
       "      <td>مصري</td>\n",
       "      <td>فوق جامعي</td>\n",
       "      <td>إمام</td>\n",
       "      <td>مطلق</td>\n",
       "      <td>شعبي</td>\n",
       "      <td>...</td>\n",
       "      <td>نعم</td>\n",
       "      <td>نعم</td>\n",
       "      <td>23</td>\n",
       "      <td>70</td>\n",
       "      <td>162</td>\n",
       "      <td>1111</td>\n",
       "      <td>جامعي</td>\n",
       "      <td>[مطلقه بدون اولاد, بكر]</td>\n",
       "      <td>[نقاب]</td>\n",
       "      <td>3</td>\n",
       "    </tr>\n",
       "    <tr>\n",
       "      <th>14</th>\n",
       "      <td>32 رجال</td>\n",
       "      <td>33</td>\n",
       "      <td>75</td>\n",
       "      <td>170</td>\n",
       "      <td>قمحي</td>\n",
       "      <td>مصري</td>\n",
       "      <td>فوق جامعي</td>\n",
       "      <td>إمام</td>\n",
       "      <td>مطلق</td>\n",
       "      <td>متوسط</td>\n",
       "      <td>...</td>\n",
       "      <td>نعم</td>\n",
       "      <td>نعم</td>\n",
       "      <td>23</td>\n",
       "      <td>60</td>\n",
       "      <td>162</td>\n",
       "      <td>1111</td>\n",
       "      <td>جامعي</td>\n",
       "      <td>[مطلقه بدون اولاد, بكر]</td>\n",
       "      <td>[نقاب]</td>\n",
       "      <td>3</td>\n",
       "    </tr>\n",
       "    <tr>\n",
       "      <th>15</th>\n",
       "      <td>38 رجال</td>\n",
       "      <td>28</td>\n",
       "      <td>102</td>\n",
       "      <td>184</td>\n",
       "      <td>ابيض</td>\n",
       "      <td>مصري</td>\n",
       "      <td>فوق جامعي</td>\n",
       "      <td>مدرس</td>\n",
       "      <td>اعزب</td>\n",
       "      <td>متوسط</td>\n",
       "      <td>...</td>\n",
       "      <td>نعم</td>\n",
       "      <td>نعم</td>\n",
       "      <td>24</td>\n",
       "      <td>70</td>\n",
       "      <td>175</td>\n",
       "      <td>1000</td>\n",
       "      <td>جامعي</td>\n",
       "      <td>[ارمله]</td>\n",
       "      <td>[طرحة]</td>\n",
       "      <td>3</td>\n",
       "    </tr>\n",
       "    <tr>\n",
       "      <th>16</th>\n",
       "      <td>54 رجال</td>\n",
       "      <td>24</td>\n",
       "      <td>92</td>\n",
       "      <td>180</td>\n",
       "      <td>ابيض</td>\n",
       "      <td>مصري</td>\n",
       "      <td>جامعي</td>\n",
       "      <td>مهندس</td>\n",
       "      <td>اعزب</td>\n",
       "      <td>متوسط</td>\n",
       "      <td>...</td>\n",
       "      <td>نعم</td>\n",
       "      <td>غالبا</td>\n",
       "      <td>22</td>\n",
       "      <td>70</td>\n",
       "      <td>167</td>\n",
       "      <td>1000</td>\n",
       "      <td>فوق جامعي</td>\n",
       "      <td>[ارمله]</td>\n",
       "      <td>[خمار]</td>\n",
       "      <td>6</td>\n",
       "    </tr>\n",
       "    <tr>\n",
       "      <th>17</th>\n",
       "      <td>56 رجال</td>\n",
       "      <td>25</td>\n",
       "      <td>88</td>\n",
       "      <td>165</td>\n",
       "      <td>قمحي</td>\n",
       "      <td>مصري</td>\n",
       "      <td>فوق جامعي</td>\n",
       "      <td>مدير</td>\n",
       "      <td>اعزب</td>\n",
       "      <td>متوسط</td>\n",
       "      <td>...</td>\n",
       "      <td>نعم</td>\n",
       "      <td>نعم</td>\n",
       "      <td>21</td>\n",
       "      <td>59</td>\n",
       "      <td>161</td>\n",
       "      <td>1111</td>\n",
       "      <td>متوسط</td>\n",
       "      <td>[ارمله]</td>\n",
       "      <td>[نقاب]</td>\n",
       "      <td>12</td>\n",
       "    </tr>\n",
       "    <tr>\n",
       "      <th>18</th>\n",
       "      <td>59 رجال</td>\n",
       "      <td>30</td>\n",
       "      <td>78</td>\n",
       "      <td>173</td>\n",
       "      <td>ابيض</td>\n",
       "      <td>مصري</td>\n",
       "      <td>جامعي</td>\n",
       "      <td>موظف</td>\n",
       "      <td>مطلق</td>\n",
       "      <td>شعبي</td>\n",
       "      <td>...</td>\n",
       "      <td>نعم</td>\n",
       "      <td>نعم</td>\n",
       "      <td>25</td>\n",
       "      <td>68</td>\n",
       "      <td>164</td>\n",
       "      <td>1010</td>\n",
       "      <td>جامعي</td>\n",
       "      <td>[مطلقه بدون اولاد, ارمله, بكر]</td>\n",
       "      <td>[خمار, نقاب]</td>\n",
       "      <td>12</td>\n",
       "    </tr>\n",
       "    <tr>\n",
       "      <th>19</th>\n",
       "      <td>68 رجال</td>\n",
       "      <td>39</td>\n",
       "      <td>105</td>\n",
       "      <td>173</td>\n",
       "      <td>قمحي</td>\n",
       "      <td>مصري</td>\n",
       "      <td>جامعي</td>\n",
       "      <td>مدير</td>\n",
       "      <td>اعزب</td>\n",
       "      <td>مرتفع</td>\n",
       "      <td>...</td>\n",
       "      <td>نعم</td>\n",
       "      <td>نعم</td>\n",
       "      <td>30</td>\n",
       "      <td>65</td>\n",
       "      <td>160</td>\n",
       "      <td>1000</td>\n",
       "      <td>جامعي</td>\n",
       "      <td>[مطلقه لهااولاد, ارمله, بكر, مطلقه بدون اولاد]</td>\n",
       "      <td>[نقاب]</td>\n",
       "      <td>3</td>\n",
       "    </tr>\n",
       "    <tr>\n",
       "      <th>20</th>\n",
       "      <td>78 رجال</td>\n",
       "      <td>23</td>\n",
       "      <td>95</td>\n",
       "      <td>170</td>\n",
       "      <td>ابيض</td>\n",
       "      <td>مصري</td>\n",
       "      <td>فوق جامعي</td>\n",
       "      <td>مدرس</td>\n",
       "      <td>اعزب</td>\n",
       "      <td>متوسط</td>\n",
       "      <td>...</td>\n",
       "      <td>نعم</td>\n",
       "      <td>نعم</td>\n",
       "      <td>20</td>\n",
       "      <td>65</td>\n",
       "      <td>170</td>\n",
       "      <td>1000</td>\n",
       "      <td>فوق جامعي</td>\n",
       "      <td>[ارمله]</td>\n",
       "      <td>[خمار]</td>\n",
       "      <td>6</td>\n",
       "    </tr>\n",
       "  </tbody>\n",
       "</table>\n",
       "<p>20 rows × 21 columns</p>\n",
       "</div>"
      ],
      "text/plain": [
       "       code  age  weight  height color nationality  education    job status  \\\n",
       "1    2 رجال   37      90     185  ابيض        مصري      جامعي   موظف   مطلق   \n",
       "2    3 رجال   30      70     160  قمحي        مصري      متوسط   تاجر   ارمل   \n",
       "3    6 رجال   30      95     170  قمحي        مصري      جامعي   إمام   اعزب   \n",
       "4    9 رجال   27      65     177  قمحي        مصري      متوسط   موظف   اعزب   \n",
       "5   11 رجال   42      70     172  قمحي        مصري  فوق جامعي   مدير   اعزب   \n",
       "6    4 رجال   42      72     165  قمحي        مصري      جامعي   إمام  متزوج   \n",
       "7    5 رجال   44      85     176  ابيض        مصري      جامعي   مدرس  متزوج   \n",
       "8   12 رجال   42      75     175  قمحي        مصري  فوق جامعي  محاسب   اعزب   \n",
       "9   13 رجال   37      75     167  ابيض        مصري  فوق جامعي   مدرس   اعزب   \n",
       "10  14 رجال   35      85     177  قمحي        مصري      جامعي   إمام  متزوج   \n",
       "11  16 رجال   26      70     170  ابيض        مصري      متوسط   موظف   اعزب   \n",
       "12  26 رجال   27      59     170  قمحي        مصري  فوق جامعي   موظف   اعزب   \n",
       "13  30 رجال   33      75     170  قمحي        مصري  فوق جامعي   إمام   مطلق   \n",
       "14  32 رجال   33      75     170  قمحي        مصري  فوق جامعي   إمام   مطلق   \n",
       "15  38 رجال   28     102     184  ابيض        مصري  فوق جامعي   مدرس   اعزب   \n",
       "16  54 رجال   24      92     180  ابيض        مصري      جامعي  مهندس   اعزب   \n",
       "17  56 رجال   25      88     165  قمحي        مصري  فوق جامعي   مدير   اعزب   \n",
       "18  59 رجال   30      78     173  ابيض        مصري      جامعي   موظف   مطلق   \n",
       "19  68 رجال   39     105     173  قمحي        مصري      جامعي   مدير   اعزب   \n",
       "20  78 رجال   23      95     170  ابيض        مصري  فوق جامعي   مدرس   اعزب   \n",
       "\n",
       "   area_level  ... maintain_prayer_time maintain_prayer_masjid accept_age  \\\n",
       "1       متوسط  ...                  نعم                    نعم         33   \n",
       "2       مرتفع  ...                  نعم                  غالبا         24   \n",
       "3       متوسط  ...                غالبا                  غالبا         22   \n",
       "4       متوسط  ...                  نعم                    نعم         30   \n",
       "5       متوسط  ...                  نعم                    نعم         32   \n",
       "6       مرتفع  ...                  نعم                    نعم         25   \n",
       "7       متوسط  ...                  نعم                    نعم         28   \n",
       "8       متوسط  ...                  نعم                  غالبا         28   \n",
       "9       متوسط  ...                  نعم                  غالبا         23   \n",
       "10      متوسط  ...                  نعم                    نعم         25   \n",
       "11      مرتفع  ...                غالبا                  غالبا         20   \n",
       "12      متوسط  ...                  نعم                  غالبا         23   \n",
       "13       شعبي  ...                  نعم                    نعم         23   \n",
       "14      متوسط  ...                  نعم                    نعم         23   \n",
       "15      متوسط  ...                  نعم                    نعم         24   \n",
       "16      متوسط  ...                  نعم                  غالبا         22   \n",
       "17      متوسط  ...                  نعم                    نعم         21   \n",
       "18       شعبي  ...                  نعم                    نعم         25   \n",
       "19      مرتفع  ...                  نعم                    نعم         30   \n",
       "20      متوسط  ...                  نعم                    نعم         20   \n",
       "\n",
       "    accept_weight  accept_height  accept_color accept_education  \\\n",
       "1              65            165          1010            جامعي   \n",
       "2              60            164          1000            متوسط   \n",
       "3             130            170          1011            جامعي   \n",
       "4              70            160          1111            متوسط   \n",
       "5              75            177          1010            جامعي   \n",
       "6              68            170          1000            جامعي   \n",
       "7              60            160          1111            جامعي   \n",
       "8              68            164          1111            جامعي   \n",
       "9              67            160          1000            جامعي   \n",
       "10             67            170          1000            جامعي   \n",
       "11             68            164          1111            متوسط   \n",
       "12             65            150          1000        فوق جامعي   \n",
       "13             70            162          1111            جامعي   \n",
       "14             60            162          1111            جامعي   \n",
       "15             70            175          1000            جامعي   \n",
       "16             70            167          1000        فوق جامعي   \n",
       "17             59            161          1111            متوسط   \n",
       "18             68            164          1010            جامعي   \n",
       "19             65            160          1000            جامعي   \n",
       "20             65            170          1000        فوق جامعي   \n",
       "\n",
       "                                     accept_status        accept_dress  \\\n",
       "1                          [مطلقه بدون اولاد, بكر]  [خمار, نقاب, طرحة]   \n",
       "2                   [مطلقه بدون اولاد, ارمله, بكر]  [خمار, نقاب, طرحة]   \n",
       "3                   [مطلقه بدون اولاد, ارمله, بكر]  [خمار, نقاب, طرحة]   \n",
       "4                                          [ارمله]              [نقاب]   \n",
       "5                                          [ارمله]              [نقاب]   \n",
       "6                   [مطلقه بدون اولاد, ارمله, بكر]              [نقاب]   \n",
       "7                   [مطلقه بدون اولاد, ارمله, بكر]        [خمار, نقاب]   \n",
       "8                                          [ارمله]        [خمار, نقاب]   \n",
       "9                                          [ارمله]              [نقاب]   \n",
       "10                  [مطلقه بدون اولاد, ارمله, بكر]        [خمار, نقاب]   \n",
       "11  [مطلقه لهااولاد, ارمله, بكر, مطلقه بدون اولاد]              [طرحة]   \n",
       "12                                         [ارمله]        [خمار, نقاب]   \n",
       "13                         [مطلقه بدون اولاد, بكر]              [نقاب]   \n",
       "14                         [مطلقه بدون اولاد, بكر]              [نقاب]   \n",
       "15                                         [ارمله]              [طرحة]   \n",
       "16                                         [ارمله]              [خمار]   \n",
       "17                                         [ارمله]              [نقاب]   \n",
       "18                  [مطلقه بدون اولاد, ارمله, بكر]        [خمار, نقاب]   \n",
       "19  [مطلقه لهااولاد, ارمله, بكر, مطلقه بدون اولاد]              [نقاب]   \n",
       "20                                         [ارمله]              [خمار]   \n",
       "\n",
       "   engage_period  \n",
       "1              6  \n",
       "2              3  \n",
       "3              3  \n",
       "4              6  \n",
       "5             12  \n",
       "6              3  \n",
       "7              3  \n",
       "8              6  \n",
       "9              3  \n",
       "10             3  \n",
       "11             6  \n",
       "12            12  \n",
       "13             3  \n",
       "14             3  \n",
       "15             3  \n",
       "16             6  \n",
       "17            12  \n",
       "18            12  \n",
       "19             3  \n",
       "20             6  \n",
       "\n",
       "[20 rows x 21 columns]"
      ]
     },
     "execution_count": 831,
     "metadata": {},
     "output_type": "execute_result"
    }
   ],
   "source": [
    "new_males_df.head(20)"
   ]
  },
  {
   "cell_type": "markdown",
   "metadata": {},
   "source": [
    "## **Save to .CSV**"
   ]
  },
  {
   "cell_type": "code",
   "execution_count": 832,
   "metadata": {},
   "outputs": [],
   "source": [
    "# new_females_df.to_csv(r'G:\\NU\\Sp 2022\\Data Analysis\\Project\\females_data.csv', index=False,encoding='utf-8')\n",
    "# new_males_df.to_csv(r'G:\\NU\\Sp 2022\\Data Analysis\\Project\\males_data.csv', index=False,encoding='utf-8')"
   ]
  }
 ],
 "metadata": {
  "interpreter": {
   "hash": "60b0673a387a7123245fada9a576929bf4c51cfc0085e4e48682015efcf35b2c"
  },
  "kernelspec": {
   "display_name": "Python 3.7.2 64-bit",
   "name": "python3"
  },
  "language_info": {
   "codemirror_mode": {
    "name": "ipython",
    "version": 3
   },
   "file_extension": ".py",
   "mimetype": "text/x-python",
   "name": "python",
   "nbconvert_exporter": "python",
   "pygments_lexer": "ipython3",
   "version": "3.7.2"
  },
  "orig_nbformat": 4
 },
 "nbformat": 4,
 "nbformat_minor": 2
}
